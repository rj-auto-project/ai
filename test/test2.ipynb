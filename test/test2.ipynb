{
 "cells": [
  {
   "cell_type": "code",
   "execution_count": null,
   "metadata": {},
   "outputs": [
    {
     "name": "stdout",
     "output_type": "stream",
     "text": [
      "RJJP201619037610\n"
     ]
    }
   ],
   "source": [
    "import time\n",
    "import pyautogui\n",
    "import easyocr\n",
    "import cv2\n",
    "import os\n",
    "from selenium import webdriver\n",
    "from selenium.webdriver.common.by import By\n",
    "from dotenv import load_dotenv\n",
    "from selenium.webdriver.support.ui import WebDriverWait\n",
    "from selenium.webdriver.support import expected_conditions as EC\n",
    "from selenium.common.exceptions import TimeoutException\n",
    "\n",
    "# Load environment variables (username, password, and receiver_id)\n",
    "load_dotenv()\n",
    "\n",
    "# Coordinates for captcha screenshot\n",
    "CAPTCHA_COORDS = (1321, 499, 1657, 577)  # (x1, y1, x2, y2)\n",
    "\n",
    "# Webpage details and credentials from environment variables\n",
    "URL = \"https://sso.rajasthan.gov.in/signin?encq=m0ZUFHLqc4t+0vQu27K7jl5cOBbodS7JFafFdflRFZs=\"\n",
    "USERNAME = \"RJJP201619037610\"\n",
    "PASSWORD = os.getenv(\"password\")\n",
    "MPIN = os.getenv(\"mpin\")\n",
    "print(USERNAME)\n",
    "RECEIVER_IDS = os.getenv(\"reciever_id\").split(\",\")  # Assuming receiver_id contains comma-separated values\n",
    "\n",
    "# Element IDs on the webpage\n",
    "USERNAME_FIELD_ID = \"cpBodyMain_cpBody_txt_Data1\"\n",
    "PASSWORD_FIELD_ID = \"cpBodyMain_cpBody_txt_Data2\"\n",
    "CAPTCHA_FIELD_ID = \"cpBodyMain_cpBody_ssoCaptcha_txtCaptcha\"\n",
    "SUBMIT_BUTTON_ID = \"cpBodyMain_cpBody_btn_Login\"\n",
    "\n",
    "# Path to save the screenshot\n",
    "CAPTCHA_IMAGE_PATH = '/home/annone/ai/test/data/otp.png'\n",
    "\n",
    "# Initialize the Selenium WebDriver\n",
    "driver = webdriver.Chrome()\n",
    "driver.maximize_window()\n",
    "driver.get(URL)\n",
    "time.sleep(2)\n",
    "\n",
    "# Capture screenshot for captcha and save it\n",
    "def capture_screenshot(x1, y1, x2, y2, save_path):\n",
    "    width = x2 - x1\n",
    "    height = y2 - y1\n",
    "    screenshot = pyautogui.screenshot(region=(x1, y1, width, height))\n",
    "    screenshot.save(save_path)\n",
    "    print(f\"Screenshot saved at {save_path}\")\n",
    "\n",
    "def read_captcha(image_path=\"/home/annone/ai/test/data/otp.png\"):\n",
    "    img = cv2.imread(image_path)\n",
    "    img = cv2.resize(img, (323, 93))\n",
    "    reader = easyocr.Reader(['en'])\n",
    "    result = reader.readtext(img, threshold=0.2)\n",
    "    captcha_p = ''.join([line[1] for line in result])\n",
    "    captcha_text = ''.join([char for char in captcha_p if char.isdigit()])\n",
    "    return captcha_text\n",
    "\n",
    "\n",
    "captcha = \"\"\n",
    "def get_captcha():\n",
    "    global captcha\n",
    "    # while True:\n",
    "    #     capture_screenshot(*CAPTCHA_COORDS,save_path=CAPTCHA_IMAGE_PATH)\n",
    "    #     captcha = read_captcha(\"/home/annone/ai/test/data/otp.png\").replace(\" \",\"\")\n",
    "    #     print(captcha)\n",
    "    #     if len(captcha) == 6 and captcha.isdigit():\n",
    "    #         break\n",
    "    #     else:\n",
    "    #         driver.refresh()\n",
    "    #         time.sleep(1)\n",
    "\n",
    "def login():\n",
    "    print(f\"Logging in with username: {USERNAME}\")\n",
    "    get_captcha()\n",
    "    initial_url = driver.current_url\n",
    "    driver.find_element(By.ID, USERNAME_FIELD_ID).clear()\n",
    "    driver.find_element(By.ID, USERNAME_FIELD_ID).send_keys(USERNAME)\n",
    "    driver.find_element(By.ID, PASSWORD_FIELD_ID).clear()\n",
    "    driver.find_element(By.ID, PASSWORD_FIELD_ID).send_keys(PASSWORD)\n",
    "    driver.find_element(By.ID, CAPTCHA_FIELD_ID).clear()\n",
    "    captcha = input(\"captcha\")\n",
    "    driver.find_element(By.ID, CAPTCHA_FIELD_ID).send_keys(captcha)\n",
    "    print(USERNAME,PASSWORD)\n",
    "    driver.find_element(By.ID, SUBMIT_BUTTON_ID).click()\n",
    "    if WebDriverWait(driver, 10).until(EC.presence_of_element_located((By.ID, CAPTCHA_FIELD_ID))):\n",
    "        driver.refresh()\n",
    "        login()\n",
    "\n",
    "def navigate_to_table():\n",
    "    e_file_btn = driver.find_element(By.ID, \"zk_comp_405\")\n",
    "    e_file_btn.click()\n",
    "    time.sleep(2)  # Add a slight wait to allow the table to load\n",
    "    print(\"Navigated to file table.\")\n",
    "\n",
    "def select_file():\n",
    "    try:\n",
    "        WebDriverWait(driver, 60).until(EC.presence_of_element_located((By.CSS_SELECTOR, 'td.z-cell')))\n",
    "        sender_array = os.getenv(\"sender_names\").split(\",\")\n",
    "        for i in sender_array:\n",
    "            print(i)\n",
    "            try:\n",
    "                tr_element = driver.find_element(\n",
    "                        \"xpath\", f\"//tr[td/span/pre[text()='{i} ']]\"\n",
    "                    )\n",
    "                break\n",
    "            except:\n",
    "                continue\n",
    "        try:\n",
    "            file_element = tr_element.find_element(\"css selector\",'td.z-cell').find_element(\"xpath\",\".//pre\").click()\n",
    "        except:\n",
    "            print(\"no reciever found for the name you provided\")\n",
    "    except:\n",
    "        print(\"no reciever found for the name you provided\")\n",
    "\n",
    "def select_reciever(target_index):\n",
    "    try:\n",
    "        target_id = RECEIVER_IDS[target_index]\n",
    "        print(target_id)\n",
    "        row = driver.find_element(\"xpath\", f\"//tr[td/div/span[text()='{target_id}']]\")\n",
    "        radio_button = row.find_element(\"xpath\", \".//input[@type='radio']\")\n",
    "        driver.execute_script(\"arguments[0].click()\",radio_button)\n",
    "    except:\n",
    "        print(\"failed at selecting reviever\")\n",
    "\n",
    "\n",
    "def full_login():\n",
    "    # 1st Login\n",
    "    try:\n",
    "        WebDriverWait(driver, 60).until(EC.presence_of_element_located((By.ID, USERNAME_FIELD_ID)))\n",
    "        login()\n",
    "        time.sleep(2)\n",
    "        print(\"login successfully!\")\n",
    "    except TimeoutException:\n",
    "        print(\"Page did not load within the expected time.\")\n",
    "\n",
    "    # 2nd Login\n",
    "    try:\n",
    "        WebDriverWait(driver, 30).until(EC.presence_of_element_located((By.ID, \"cpBodyMain_cpBody_cbx_newsession\")))\n",
    "        if driver.current_url == \"https://sso.rajasthan.gov.in/signin?ru=EOFFICE\":\n",
    "            driver.find_element(By.ID, \"cpBodyMain_cpBody_cbx_newsession\").click()\n",
    "            driver.find_element(By.ID, \"cpBodyMain_cpBody_txt_Data2\").clear()\n",
    "            driver.find_element(By.ID, \"cpBodyMain_cpBody_txt_Data2\").send_keys(PASSWORD)\n",
    "        driver.find_element(By.ID, \"cpBodyMain_cpBody_btn_Login\").click()\n",
    "        print(\"2nd login done successfully!\")\n",
    "    except TimeoutException:\n",
    "        print(\"2nd time login page not found\")\n",
    "\n",
    "    # MPIN auth\n",
    "    try:\n",
    "        WebDriverWait(driver, 30).until(EC.presence_of_element_located((By.ID, \"j_password\")))\n",
    "        if \"https://rajeoffice.rajasthan.gov.in/dualAuthentication.zul\" in driver.current_url:\n",
    "            print(MPIN)\n",
    "            driver.find_element(By.ID, \"j_password\").send_keys(MPIN)\n",
    "            driver.find_element(By.ID, \"grad\").click()\n",
    "            print(\"MPIN passed\")\n",
    "        else:\n",
    "            print(\"wrong url\")\n",
    "    except TimeoutException:\n",
    "        print(\"Page did not load within the expected time.\")\n"
   ]
  },
  {
   "cell_type": "code",
   "execution_count": 2,
   "metadata": {},
   "outputs": [
    {
     "name": "stdout",
     "output_type": "stream",
     "text": [
      "Logging in with username: RJJP201619037610\n",
      "RJJP201619037610 Heyya@24\n",
      "Page did not load within the expected time.\n",
      "2nd time login page not found\n",
      "987654\n",
      "MPIN passed\n"
     ]
    }
   ],
   "source": [
    "full_login()"
   ]
  },
  {
   "cell_type": "code",
   "execution_count": 3,
   "metadata": {},
   "outputs": [],
   "source": [
    "try:\n",
    "    WebDriverWait(driver, 60).until(EC.text_to_be_present_in_element((By.XPATH, \"//*\"), \" Load Data\"))\n",
    "    driver.find_element(\"xpath\", f\"//*[contains(text(), ' Load Data')]\").click()                           # load data btn in efiles page\n",
    "except TimeoutException:\n",
    "    print(\"Page did not load within the expected time.\")\n"
   ]
  },
  {
   "cell_type": "code",
   "execution_count": 4,
   "metadata": {},
   "outputs": [
    {
     "name": "stdout",
     "output_type": "stream",
     "text": [
      "span\n"
     ]
    }
   ],
   "source": [
    "try:\n",
    "    WebDriverWait(driver, 60).until(EC.text_to_be_present_in_element((By.XPATH, \"//*\"), 'E - File'))\n",
    "    parent_container = driver.find_element(By.ID,\"zk_comp_376\")\n",
    "    e_file_text = parent_container.find_elements(\"xpath\", f\"//*[contains(text(), 'E - File')]\")\n",
    "    file_num_element = e_file_text[1].find_element(By.XPATH,\"following-sibling::*[3]\")\n",
    "    driver.execute_script(\"arguments[0].click()\",file_num_element)\n",
    "    print(file_num_element.tag_name)\n",
    "except TimeoutException:\n",
    "    print(\"Page did not load within the expected time.\")\n"
   ]
  },
  {
   "cell_type": "code",
   "execution_count": null,
   "metadata": {},
   "outputs": [],
   "source": [
    "# try:\n",
    "#     WebDriverWait(driver, 60).until(EC.presence_of_element_located((By.CSS_SELECTOR, 'td.z-cell')))\n",
    "#     select_file()\n",
    "#     time.sleep(5)\n",
    "#     WebDriverWait(driver, 60).until(EC.presence_of_element_located((By.XPATH, \"//*[contains(text(), 'Send To Anyone')]\")))\n",
    "#     send_to_anyon_btn = driver.find_elements(\"xpath\", f\"//*[contains(text(), 'Send To Anyone')]\")\n",
    "#     print(send_to_anyon_btn)\n",
    "#     driver.execute_script(\"arguments[0].click()\",send_to_anyon_btn[1])\n",
    "# except TimeoutException:\n",
    "#     print(\"Page did not load within the expected time.\")\n"
   ]
  },
  {
   "cell_type": "code",
   "execution_count": null,
   "metadata": {},
   "outputs": [],
   "source": [
    "sender_array = os.getenv(\"sender_names\").split(\",\")\n",
    "for i in sender_array:\n",
    "    print(i)\n",
    "    try:\n",
    "        tr_element = driver.find_element(\n",
    "                \"xpath\", f\"//tr[td/span/pre[text()='{i} ']]\"\n",
    "            )\n",
    "        break\n",
    "    except:\n",
    "        continue\n",
    "try:\n",
    "    file_element = tr_element.find_element(\"css selector\",'td.z-cell').find_element(\"xpath\",\".//pre\").click()\n",
    "except:\n",
    "    print(\"no reciever found for the name you provided\")"
   ]
  },
  {
   "cell_type": "code",
   "execution_count": null,
   "metadata": {},
   "outputs": [],
   "source": [
    "RECEIVER_IDS"
   ]
  },
  {
   "cell_type": "code",
   "execution_count": null,
   "metadata": {},
   "outputs": [],
   "source": [
    "receiver_index = 0\n",
    "try:\n",
    "    time.sleep(2)\n",
    "    if receiver_index >= len(RECEIVER_IDS):\n",
    "        receiver_index = 0\n",
    "    select_reciever(receiver_index)\n",
    "    time.sleep(2)\n",
    "    driver.find_element(\"xpath\", f\"//*[contains(text(), 'Proceed')]\").click()\n",
    "    time.sleep(2)\n",
    "    driver.find_element(\"xpath\", f\"//*[contains(text(), 'Proceed without DSC/e Sign')]\").click()\n",
    "    time.sleep(2)\n",
    "    receiver_index = receiver_index + 1\n",
    "except TimeoutException:\n",
    "    print(\"failed at sending file step\")"
   ]
  },
  {
   "cell_type": "code",
   "execution_count": null,
   "metadata": {},
   "outputs": [],
   "source": [
    "try:\n",
    "    ok_button = WebDriverWait(driver, 10).until(\n",
    "        EC.presence_of_element_located((By.XPATH, \"//button[contains(text(), 'OK')]\"))\n",
    "    )\n",
    "    ok_button.click()\n",
    "    print(\"OK button found.\")\n",
    "except TimeoutException:\n",
    "    print(\"OK button not found within the specified wait time.\")"
   ]
  },
  {
   "cell_type": "code",
   "execution_count": null,
   "metadata": {},
   "outputs": [],
   "source": [
    "# driver.find_element(\"xpath\", f\"//*[contains(text(), 'Proceed')]\").click()"
   ]
  },
  {
   "cell_type": "code",
   "execution_count": null,
   "metadata": {},
   "outputs": [],
   "source": [
    "# driver.find_element(\"xpath\", f\"//*[contains(text(), 'Proceed without DSC/e Sign')]\").click()"
   ]
  },
  {
   "cell_type": "code",
   "execution_count": null,
   "metadata": {},
   "outputs": [],
   "source": [
    "# final_ok_btn= driver.find_element(By.ID, \"zk_comp_1036\")\n",
    "# driver.execute_script(\"arguments[0].click()\",final_ok_btn)"
   ]
  }
 ],
 "metadata": {
  "kernelspec": {
   "display_name": ".venv",
   "language": "python",
   "name": "python3"
  },
  "language_info": {
   "codemirror_mode": {
    "name": "ipython",
    "version": 3
   },
   "file_extension": ".py",
   "mimetype": "text/x-python",
   "name": "python",
   "nbconvert_exporter": "python",
   "pygments_lexer": "ipython3",
   "version": "3.11.10"
  }
 },
 "nbformat": 4,
 "nbformat_minor": 2
}
