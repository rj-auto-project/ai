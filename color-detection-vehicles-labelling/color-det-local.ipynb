{
 "cells": [
  {
   "cell_type": "code",
   "execution_count": 94,
   "metadata": {},
   "outputs": [],
   "source": [
    "import cv2\n",
    "import numpy as np\n",
    "from sklearn.cluster import KMeans\n",
    "import matplotlib.pyplot as plt\n",
    "import time\n",
    "import os\n",
    "import json\n",
    "import shutil"
   ]
  },
  {
   "cell_type": "code",
   "execution_count": 29,
   "metadata": {},
   "outputs": [],
   "source": [
    "def timing_decorator(func):\n",
    "    def wrapper(*args, **kwargs):\n",
    "        start_time = time.time()\n",
    "        result = func(*args, **kwargs)\n",
    "        end_time = time.time()\n",
    "        print(f\"{func.__name__} execution time: {end_time - start_time} seconds\")\n",
    "        return result\n",
    "    return wrapper"
   ]
  },
  {
   "cell_type": "code",
   "execution_count": 99,
   "metadata": {},
   "outputs": [],
   "source": [
    "def crop_center(image, crop_fraction=0.8, max_total_pixels = 4000):\n",
    "    h, w, _ = image.shape\n",
    "    crop_h, crop_w = int(h * crop_fraction), int(w * crop_fraction)\n",
    "    start_h, start_w = (h - crop_h) // 2, (w - crop_w) // 2\n",
    "    cropped_image = image[start_h:start_h + crop_h, start_w:start_w + crop_w]\n",
    "\n",
    "    # Check if resizing is needed\n",
    "    total_pixels = cropped_image.shape[0] * cropped_image.shape[1]\n",
    "    if total_pixels > max_total_pixels:\n",
    "        scale_factor = (max_total_pixels / total_pixels) ** 0.5\n",
    "        new_h, new_w = int(cropped_image.shape[0] * scale_factor), int(cropped_image.shape[1] * scale_factor)\n",
    "        cropped_image = cv2.resize(cropped_image, (new_w, new_h), interpolation=cv2.INTER_AREA)\n",
    "    \n",
    "    return cropped_image\n",
    "\n",
    "@timing_decorator\n",
    "def find_top_colors_hsv(image_path, k=4):\n",
    "    # Load image\n",
    "    image = cv2.imread(image_path)\n",
    "    # Crop the center 80% of the image\n",
    "    cropped_image = crop_center(image)\n",
    "    # Convert image from BGR to HSV\n",
    "    image_hsv = cv2.cvtColor(cropped_image, cv2.COLOR_BGR2HSV)\n",
    "\n",
    "    # Perform histogram equalization on the V channel\n",
    "    # image_hsv[:, :, 2] = cv2.equalizeHist(image_hsv[:, :, 2])\n",
    "    \n",
    "    # Reshape image to be a list of pixels\n",
    "    pixels_hsv = image_hsv.reshape((-1, 3))\n",
    "    \n",
    "    # Cluster pixels using KMeans\n",
    "    kmeans = KMeans(n_clusters=k)\n",
    "    kmeans.fit(pixels_hsv)\n",
    "    \n",
    "    # Get the cluster centers (dominant colors)\n",
    "    colors_hsv = kmeans.cluster_centers_\n",
    "    \n",
    "    # Get the labels of each pixel\n",
    "    labels = kmeans.labels_\n",
    "    \n",
    "    # Replace each pixel with the color of its cluster\n",
    "    segmented_image_hsv = colors_hsv[labels].reshape(image_hsv.shape)\n",
    "    \n",
    "    # Convert the segmented image back to RGB\n",
    "    segmented_image_rgb = cv2.cvtColor(segmented_image_hsv.astype(np.uint8), cv2.COLOR_HSV2RGB)\n",
    "    return cropped_image, segmented_image_rgb, colors_hsv, labels, kmeans.cluster_centers_\n",
    "\n",
    "def plot_segmented_image(segmented_image_rgb):\n",
    "    plt.figure(figsize=(10, 10))\n",
    "    plt.imshow(segmented_image_rgb)\n",
    "    plt.axis('off')\n",
    "    plt.show()\n",
    "\n",
    "def plot_colors(colors, counts, cluster_size):\n",
    "    # Plot each color with its count\n",
    "    fig, ax = plt.subplots(1, cluster_size, figsize=(15, 5))\n",
    "    for i, (color, count) in enumerate(zip(colors, counts)):\n",
    "        color_image = np.zeros((100, 100, 3), dtype=np.uint8)\n",
    "        color_image[:, :] = color.astype(np.uint8)\n",
    "        ax[i].imshow(color_image)\n",
    "        ax[i].set_title(f'Color {i+1}\\nCount: {count}')\n",
    "        ax[i].axis('off')\n",
    "    plt.show()\n",
    "\n",
    "def save_color_centers_json(colors_hsv, counts, save_path):\n",
    "    data = [{\"color\": color.tolist(), \"count\": int(count)} for color, count in zip(colors_hsv, counts)]\n",
    "    with open(save_path, 'w') as f:\n",
    "        json.dump(data, f)\n",
    "\n",
    "def create_directory(path):\n",
    "    if not os.path.exists(path):\n",
    "        os.makedirs(path)\n"
   ]
  },
  {
   "cell_type": "code",
   "execution_count": 110,
   "metadata": {},
   "outputs": [
    {
     "name": "stderr",
     "output_type": "stream",
     "text": [
      "  0%|          | 0/9 [00:00<?, ?it/s]"
     ]
    },
    {
     "name": "stdout",
     "output_type": "stream",
     "text": [
      "find_top_colors_hsv execution time: 0.294780969619751 seconds\n",
      "Top colors: [array([135, 152,  80], dtype=uint8), array([50, 62, 58], dtype=uint8), array([24, 56, 42], dtype=uint8), array([132, 144, 138], dtype=uint8)]\n",
      "Top counts: [ 331 1870 1019  740]\n",
      "find_top_colors_hsv execution time: 0.09239077568054199 seconds\n",
      "Top colors: [array([149, 143,  61], dtype=uint8), array([56, 72, 54], dtype=uint8), array([19, 69, 46], dtype=uint8), array([37, 74, 54], dtype=uint8)]\n",
      "Top counts: [ 382  841 1520 1193]\n",
      "find_top_colors_hsv execution time: 0.08305692672729492 seconds\n",
      "Top colors: [array([48, 67, 66], dtype=uint8), array([ 99, 143, 144], dtype=uint8), array([ 3, 32, 30], dtype=uint8), array([40, 89, 82], dtype=uint8)]\n",
      "Top counts: [1019  957  234 1122]\n"
     ]
    },
    {
     "name": "stderr",
     "output_type": "stream",
     "text": []
    },
    {
     "name": "stdout",
     "output_type": "stream",
     "text": [
      "find_top_colors_hsv execution time: 0.11839795112609863 seconds\n",
      "Top colors: [array([131, 168, 145], dtype=uint8), array([25, 79, 57], dtype=uint8), array([68, 93, 77], dtype=uint8), array([50, 96, 76], dtype=uint8)]\n",
      "Top counts: [ 597 1338  621 1357]\n",
      "find_top_colors_hsv execution time: 0.11292910575866699 seconds\n",
      "Top colors: [array([154, 203, 152], dtype=uint8), array([ 46, 110,  89], dtype=uint8), array([ 3, 40, 21], dtype=uint8), array([ 71, 104,  84], dtype=uint8)]\n",
      "Top counts: [381 815 344 404]\n"
     ]
    },
    {
     "name": "stderr",
     "output_type": "stream",
     "text": []
    },
    {
     "name": "stdout",
     "output_type": "stream",
     "text": [
      "find_top_colors_hsv execution time: 0.11955094337463379 seconds\n",
      "Top colors: [array([14, 49, 44], dtype=uint8), array([ 92, 133, 136], dtype=uint8), array([44, 64, 64], dtype=uint8), array([ 44, 109,  98], dtype=uint8)]\n",
      "Top counts: [ 419 1244 1359  962]\n",
      "find_top_colors_hsv execution time: 0.11231780052185059 seconds\n",
      "Top colors: [array([69, 79, 71], dtype=uint8), array([17, 51, 26], dtype=uint8), array([165, 150, 100], dtype=uint8), array([34, 38, 45], dtype=uint8)]\n",
      "Top counts: [ 999  822  276 1695]\n"
     ]
    },
    {
     "name": "stderr",
     "output_type": "stream",
     "text": []
    },
    {
     "name": "stdout",
     "output_type": "stream",
     "text": [
      "find_top_colors_hsv execution time: 0.14695215225219727 seconds\n",
      "Top colors: [array([51, 70, 69], dtype=uint8), array([ 72, 118, 125], dtype=uint8), array([124, 140, 136], dtype=uint8), array([30, 66, 60], dtype=uint8)]\n",
      "Top counts: [1264  952  702 1024]\n",
      "find_top_colors_hsv execution time: 0.12879610061645508 seconds\n",
      "Top colors: [array([141, 151, 152], dtype=uint8), array([38, 41, 47], dtype=uint8), array([80, 81, 71], dtype=uint8), array([24, 50, 43], dtype=uint8)]\n",
      "Top counts: [ 190 1143  263  516]\n"
     ]
    },
    {
     "name": "stderr",
     "output_type": "stream",
     "text": []
    },
    {
     "name": "stdout",
     "output_type": "stream",
     "text": [
      "find_top_colors_hsv execution time: 0.12709999084472656 seconds\n",
      "Top colors: [array([131, 175, 138], dtype=uint8), array([ 3, 42, 19], dtype=uint8), array([ 47, 108,  86], dtype=uint8), array([65, 91, 67], dtype=uint8)]\n",
      "Top counts: [ 899  751 1579  727]\n",
      "find_top_colors_hsv execution time: 0.10531997680664062 seconds\n",
      "Top colors: [array([104, 165, 153], dtype=uint8), array([ 2, 48, 31], dtype=uint8), array([ 41, 113,  94], dtype=uint8), array([57, 99, 92], dtype=uint8)]\n",
      "Top counts: [ 628  446 1206  417]\n",
      "find_top_colors_hsv execution time: 0.062319040298461914 seconds\n",
      "Top colors: [array([42, 71, 68], dtype=uint8), array([132, 167, 142], dtype=uint8), array([ 7, 32, 25], dtype=uint8), array([68, 84, 85], dtype=uint8)]\n",
      "Top counts: [360 109  62 252]\n"
     ]
    },
    {
     "name": "stderr",
     "output_type": "stream",
     "text": []
    },
    {
     "name": "stdout",
     "output_type": "stream",
     "text": [
      "find_top_colors_hsv execution time: 0.16555118560791016 seconds\n",
      "Top colors: [array([49, 60, 59], dtype=uint8), array([39, 69, 60], dtype=uint8), array([153, 163, 135], dtype=uint8), array([11, 44, 28], dtype=uint8)]\n",
      "Top counts: [639 636 204 187]\n",
      "find_top_colors_hsv execution time: 0.08931827545166016 seconds\n",
      "Top colors: [array([47, 57, 57], dtype=uint8), array([119, 141, 124], dtype=uint8), array([28, 50, 46], dtype=uint8), array([ 2, 21, 10], dtype=uint8)]\n",
      "Top counts: [1500  739  676  167]\n",
      "find_top_colors_hsv execution time: 0.08481216430664062 seconds\n",
      "Top colors: [array([108, 115,  91], dtype=uint8), array([60, 70, 41], dtype=uint8), array([175, 188, 150], dtype=uint8), array([26, 35,  5], dtype=uint8)]\n",
      "Top counts: [1683  603 1370  184]\n"
     ]
    },
    {
     "name": "stderr",
     "output_type": "stream",
     "text": []
    },
    {
     "name": "stdout",
     "output_type": "stream",
     "text": [
      "find_top_colors_hsv execution time: 0.14540600776672363 seconds\n",
      "Top colors: [array([139, 185, 149], dtype=uint8), array([40, 95, 71], dtype=uint8), array([ 6, 49, 25], dtype=uint8), array([ 69, 111,  89], dtype=uint8)]\n",
      "Top counts: [ 495 1638  372 1415]\n",
      "find_top_colors_hsv execution time: 0.12721514701843262 seconds\n",
      "Top colors: [array([163, 174, 131], dtype=uint8), array([34, 77, 58], dtype=uint8), array([51, 66, 65], dtype=uint8), array([ 4, 36,  7], dtype=uint8)]\n",
      "Top counts: [308 812 935 213]\n"
     ]
    },
    {
     "name": "stderr",
     "output_type": "stream",
     "text": []
    },
    {
     "name": "stdout",
     "output_type": "stream",
     "text": [
      "find_top_colors_hsv execution time: 0.11213088035583496 seconds\n",
      "Top colors: [array([41, 50, 47], dtype=uint8), array([127, 147, 118], dtype=uint8), array([34, 63, 49], dtype=uint8), array([ 9, 28,  4], dtype=uint8)]\n",
      "Top counts: [1132  370 1180  178]\n",
      "find_top_colors_hsv execution time: 0.1304929256439209 seconds\n",
      "Top colors: [array([63, 53, 56], dtype=uint8), array([31, 72, 50], dtype=uint8), array([131, 157, 136], dtype=uint8), array([57, 67, 63], dtype=uint8)]\n",
      "Top counts: [ 260 1088  764 1821]\n"
     ]
    },
    {
     "name": "stderr",
     "output_type": "stream",
     "text": []
    },
    {
     "name": "stdout",
     "output_type": "stream",
     "text": [
      "find_top_colors_hsv execution time: 0.06748700141906738 seconds\n",
      "Top colors: [array([170, 207, 171], dtype=uint8), array([ 1, 29, 11], dtype=uint8), array([41, 78, 62], dtype=uint8), array([ 93, 127, 110], dtype=uint8)]\n",
      "Top counts: [320 229 410 679]\n",
      "find_top_colors_hsv execution time: 0.08277511596679688 seconds\n",
      "Top colors: [array([43, 53, 54], dtype=uint8), array([35, 76, 62], dtype=uint8), array([ 3, 27, 13], dtype=uint8), array([134, 162, 128], dtype=uint8)]\n",
      "Top counts: [1170  834  200  420]\n"
     ]
    },
    {
     "name": "stderr",
     "output_type": "stream",
     "text": []
    },
    {
     "name": "stdout",
     "output_type": "stream",
     "text": [
      "find_top_colors_hsv execution time: 0.1709890365600586 seconds\n",
      "Top colors: [array([25, 71, 48], dtype=uint8), array([ 54, 108,  83], dtype=uint8), array([119, 155, 129], dtype=uint8), array([63, 84, 66], dtype=uint8)]\n",
      "Top counts: [ 730 1916  608  702]\n",
      "find_top_colors_hsv execution time: 0.13021183013916016 seconds\n",
      "Top colors: [array([ 48, 108,  82], dtype=uint8), array([128, 158, 119], dtype=uint8), array([18, 70, 47], dtype=uint8), array([58, 81, 64], dtype=uint8)]\n",
      "Top counts: [2270  378  657  634]\n"
     ]
    },
    {
     "name": "stderr",
     "output_type": "stream",
     "text": []
    },
    {
     "name": "stdout",
     "output_type": "stream",
     "text": [
      "find_top_colors_hsv execution time: 0.15032505989074707 seconds\n",
      "Top colors: [array([ 81, 130, 100], dtype=uint8), array([122, 148, 124], dtype=uint8), array([45, 99, 72], dtype=uint8), array([59, 77, 62], dtype=uint8)]\n",
      "Top counts: [1333  774 1080  683]\n",
      "find_top_colors_hsv execution time: 0.08288383483886719 seconds\n",
      "Top colors: [array([46, 60, 59], dtype=uint8), array([32, 73, 58], dtype=uint8), array([ 2, 28, 16], dtype=uint8), array([124, 151, 107], dtype=uint8)]\n",
      "Top counts: [707 721 227 205]\n",
      "find_top_colors_hsv execution time: 0.09514904022216797 seconds\n",
      "Top colors: [array([47, 75, 61], dtype=uint8), array([152, 168, 144], dtype=uint8), array([63, 70, 59], dtype=uint8), array([31, 73, 48], dtype=uint8)]\n",
      "Top counts: [1562  556  884  937]\n"
     ]
    },
    {
     "name": "stderr",
     "output_type": "stream",
     "text": []
    },
    {
     "name": "stdout",
     "output_type": "stream",
     "text": [
      "find_top_colors_hsv execution time: 0.14686894416809082 seconds\n",
      "Top colors: [array([120, 153, 131], dtype=uint8), array([36, 90, 68], dtype=uint8), array([61, 98, 72], dtype=uint8), array([13, 59, 38], dtype=uint8)]\n",
      "Top counts: [ 584 1611 1046  672]\n",
      "find_top_colors_hsv execution time: 0.10240578651428223 seconds\n",
      "Top colors: [array([54, 72, 55], dtype=uint8), array([33, 74, 55], dtype=uint8), array([96, 49, 55], dtype=uint8), array([118, 142, 115], dtype=uint8)]\n",
      "Top counts: [1507 1502  210  720]\n"
     ]
    },
    {
     "name": "stderr",
     "output_type": "stream",
     "text": []
    },
    {
     "name": "stdout",
     "output_type": "stream",
     "text": [
      "find_top_colors_hsv execution time: 0.13530898094177246 seconds\n",
      "Top colors: [array([74, 95, 74], dtype=uint8), array([ 56, 119,  92], dtype=uint8), array([119, 165, 124], dtype=uint8), array([25, 76, 49], dtype=uint8)]\n",
      "Top counts: [ 866 1948  564  537]\n",
      "find_top_colors_hsv execution time: 0.10709786415100098 seconds\n",
      "Top colors: [array([ 48, 119,  93], dtype=uint8), array([106, 164, 145], dtype=uint8), array([ 73, 105,  83], dtype=uint8), array([19, 77, 52], dtype=uint8)]\n",
      "Top counts: [2203  665  445  643]\n"
     ]
    },
    {
     "name": "stderr",
     "output_type": "stream",
     "text": []
    },
    {
     "name": "stdout",
     "output_type": "stream",
     "text": [
      "find_top_colors_hsv execution time: 0.09859013557434082 seconds\n",
      "Top colors: [array([34, 92, 69], dtype=uint8), array([ 4, 49, 25], dtype=uint8), array([115, 167, 120], dtype=uint8), array([56, 97, 78], dtype=uint8)]\n",
      "Top counts: [1511  460  373 1184]\n",
      "find_top_colors_hsv execution time: 0.12086987495422363 seconds\n",
      "Top colors: [array([105, 130, 106], dtype=uint8), array([27, 63, 49], dtype=uint8), array([48, 76, 67], dtype=uint8), array([61, 63, 52], dtype=uint8)]\n",
      "Top counts: [ 572  979 1428  981]\n"
     ]
    },
    {
     "name": "stderr",
     "output_type": "stream",
     "text": []
    },
    {
     "name": "stdout",
     "output_type": "stream",
     "text": [
      "find_top_colors_hsv execution time: 0.08680558204650879 seconds\n",
      "Top colors: [array([167, 197, 148], dtype=uint8), array([ 1, 31,  1], dtype=uint8), array([39, 84, 51], dtype=uint8), array([ 85, 125,  99], dtype=uint8)]\n",
      "Top counts: [339 193 304 340]\n",
      "find_top_colors_hsv execution time: 0.07372212409973145 seconds\n",
      "Top colors: [array([ 78,  97, 112], dtype=uint8), array([115, 116,  97], dtype=uint8), array([165, 179, 164], dtype=uint8), array([62, 71, 74], dtype=uint8)]\n",
      "Top counts: [ 777 1094 1174  897]\n",
      "find_top_colors_hsv execution time: 0.11305499076843262 seconds\n"
     ]
    },
    {
     "name": "stderr",
     "output_type": "stream",
     "text": []
    },
    {
     "name": "stdout",
     "output_type": "stream",
     "text": [
      "Top colors: [array([ 4, 25, 21], dtype=uint8), array([34, 54, 51], dtype=uint8), array([76, 89, 85], dtype=uint8), array([163, 182, 169], dtype=uint8)]\n",
      "Top counts: [ 56 247 349 107]\n",
      "find_top_colors_hsv execution time: 0.09552407264709473 seconds\n",
      "Top colors: [array([48, 57, 63], dtype=uint8), array([137, 137, 118], dtype=uint8), array([ 95, 108, 116], dtype=uint8), array([196, 209, 194], dtype=uint8)]\n",
      "Top counts: [1074  874 1181  813]\n"
     ]
    },
    {
     "name": "stderr",
     "output_type": "stream",
     "text": []
    },
    {
     "name": "stdout",
     "output_type": "stream",
     "text": [
      "find_top_colors_hsv execution time: 0.11075782775878906 seconds\n",
      "Top colors: [array([70, 68, 59], dtype=uint8), array([33, 82, 63], dtype=uint8), array([54, 62, 65], dtype=uint8), array([130, 164, 128], dtype=uint8)]\n",
      "Top counts: [ 609 1675 1111  555]\n",
      "find_top_colors_hsv execution time: 0.1261730194091797 seconds\n",
      "Top colors: [array([174, 152,  81], dtype=uint8), array([49, 99, 66], dtype=uint8), array([66, 72, 57], dtype=uint8), array([110, 139, 106], dtype=uint8)]\n",
      "Top counts: [ 505 1706  958  744]\n"
     ]
    },
    {
     "name": "stderr",
     "output_type": "stream",
     "text": [
      "100%|██████████| 39/39 [00:04<00:00,  8.05it/s]\n",
      " 11%|█         | 1/9 [00:04<00:38,  4.85s/it]"
     ]
    },
    {
     "name": "stdout",
     "output_type": "stream",
     "text": [
      "find_top_colors_hsv execution time: 0.08966708183288574 seconds\n",
      "Top colors: [array([180, 188, 167], dtype=uint8), array([80, 87, 78], dtype=uint8), array([ 5, 15,  2], dtype=uint8), array([35, 49, 41], dtype=uint8)]\n",
      "Top counts: [138 398  58 334]\n"
     ]
    },
    {
     "name": "stderr",
     "output_type": "stream",
     "text": []
    },
    {
     "name": "stdout",
     "output_type": "stream",
     "text": [
      "find_top_colors_hsv execution time: 0.13949799537658691 seconds\n",
      "Top colors: [array([24, 27, 31], dtype=uint8), array([57, 63, 63], dtype=uint8), array([36, 45, 72], dtype=uint8), array([132, 141, 138], dtype=uint8)]\n",
      "Top counts: [1694 1068  625  507]\n"
     ]
    },
    {
     "name": "stderr",
     "output_type": "stream",
     "text": []
    },
    {
     "name": "stdout",
     "output_type": "stream",
     "text": [
      "find_top_colors_hsv execution time: 0.11232805252075195 seconds\n",
      "Top colors: [array([102, 134, 163], dtype=uint8), array([63, 73, 93], dtype=uint8), array([31, 48, 73], dtype=uint8), array([152, 199, 230], dtype=uint8)]\n",
      "Top counts: [1285  675  462 1500]\n"
     ]
    },
    {
     "name": "stderr",
     "output_type": "stream",
     "text": []
    },
    {
     "name": "stdout",
     "output_type": "stream",
     "text": [
      "find_top_colors_hsv execution time: 0.1354978084564209 seconds\n",
      "Top colors: [array([38, 54, 88], dtype=uint8), array([58, 66, 78], dtype=uint8), array([162, 161, 151], dtype=uint8), array([ 82, 105, 135], dtype=uint8)]\n",
      "Top counts: [ 988 1533  141 1280]\n"
     ]
    },
    {
     "name": "stderr",
     "output_type": "stream",
     "text": []
    },
    {
     "name": "stdout",
     "output_type": "stream",
     "text": [
      "find_top_colors_hsv execution time: 0.21066689491271973 seconds\n",
      "Top colors: [array([ 85,  99, 137], dtype=uint8), array([76, 75, 95], dtype=uint8), array([85, 81, 77], dtype=uint8), array([162, 168, 178], dtype=uint8)]\n",
      "Top counts: [2323 1028  162  435]\n",
      "find_top_colors_hsv execution time: 0.11618304252624512 seconds\n",
      "Top colors: [array([32, 39, 46], dtype=uint8), array([149, 161, 165], dtype=uint8), array([ 52,  83, 110], dtype=uint8), array([77, 89, 90], dtype=uint8)]\n",
      "Top counts: [1466  561  765 1108]\n"
     ]
    },
    {
     "name": "stderr",
     "output_type": "stream",
     "text": []
    },
    {
     "name": "stdout",
     "output_type": "stream",
     "text": [
      "find_top_colors_hsv execution time: 0.12796807289123535 seconds\n",
      "Top colors: [array([64, 83, 99], dtype=uint8), array([ 50,  76, 121], dtype=uint8), array([169, 190, 199], dtype=uint8), array([20, 39, 64], dtype=uint8)]\n",
      "Top counts: [2015 1005  355  547]\n",
      "find_top_colors_hsv execution time: 0.09006285667419434 seconds\n",
      "Top colors: [array([142, 184, 113], dtype=uint8), array([55, 59, 66], dtype=uint8), array([184, 201, 196], dtype=uint8), array([52, 71, 99], dtype=uint8)]\n",
      "Top counts: [ 437 1610  693 1235]\n"
     ]
    },
    {
     "name": "stderr",
     "output_type": "stream",
     "text": []
    },
    {
     "name": "stdout",
     "output_type": "stream",
     "text": [
      "find_top_colors_hsv execution time: 0.12708401679992676 seconds\n",
      "Top colors: [array([ 90, 107, 127], dtype=uint8), array([35, 42, 70], dtype=uint8), array([53, 61, 76], dtype=uint8), array([173, 185, 172], dtype=uint8)]\n",
      "Top counts: [1606  634 1538  174]\n",
      "find_top_colors_hsv execution time: 0.10682892799377441 seconds\n",
      "Top colors: [array([173, 183, 173], dtype=uint8), array([39, 46, 50], dtype=uint8), array([84, 91, 89], dtype=uint8), array([29, 50, 61], dtype=uint8)]\n",
      "Top counts: [ 504 1406 1216  839]\n"
     ]
    },
    {
     "name": "stderr",
     "output_type": "stream",
     "text": []
    },
    {
     "name": "stdout",
     "output_type": "stream",
     "text": [
      "find_top_colors_hsv execution time: 0.11901283264160156 seconds\n",
      "Top colors: [array([ 77,  93, 120], dtype=uint8), array([53, 56, 66], dtype=uint8), array([32, 41, 64], dtype=uint8), array([138, 148, 153], dtype=uint8)]\n",
      "Top counts: [ 962 1366  698  894]\n",
      "find_top_colors_hsv execution time: 0.09683012962341309 seconds\n",
      "Top colors: [array([ 53,  73, 122], dtype=uint8), array([44, 44, 56], dtype=uint8), array([107, 112, 122], dtype=uint8), array([84, 75, 70], dtype=uint8)]\n",
      "Top counts: [1084 1792  687  357]\n"
     ]
    },
    {
     "name": "stderr",
     "output_type": "stream",
     "text": []
    },
    {
     "name": "stdout",
     "output_type": "stream",
     "text": [
      "find_top_colors_hsv execution time: 0.11748194694519043 seconds\n",
      "Top colors: [array([ 76,  95, 123], dtype=uint8), array([34, 40, 48], dtype=uint8), array([132, 143, 148], dtype=uint8), array([73, 80, 86], dtype=uint8)]\n",
      "Top counts: [ 990 1179  821  960]\n",
      "find_top_colors_hsv execution time: 0.17399191856384277 seconds\n",
      "Top colors: [array([ 49,  77, 131], dtype=uint8), array([53, 60, 61], dtype=uint8), array([40, 51, 73], dtype=uint8), array([154, 163, 159], dtype=uint8)]\n",
      "Top counts: [ 794 1581  570 1031]\n"
     ]
    },
    {
     "name": "stderr",
     "output_type": "stream",
     "text": []
    },
    {
     "name": "stdout",
     "output_type": "stream",
     "text": [
      "find_top_colors_hsv execution time: 0.11720490455627441 seconds\n",
      "Top colors: [array([47, 51, 55], dtype=uint8), array([141, 137, 123], dtype=uint8), array([41, 45, 70], dtype=uint8), array([142, 146, 150], dtype=uint8)]\n",
      "Top counts: [1588  792  666  914]\n",
      "find_top_colors_hsv execution time: 0.10659599304199219 seconds\n",
      "Top colors: [array([37, 45, 52], dtype=uint8), array([163, 177, 177], dtype=uint8), array([74, 84, 84], dtype=uint8), array([34, 52, 94], dtype=uint8)]\n",
      "Top counts: [1448  623 1131  751]\n"
     ]
    },
    {
     "name": "stderr",
     "output_type": "stream",
     "text": []
    },
    {
     "name": "stdout",
     "output_type": "stream",
     "text": [
      "find_top_colors_hsv execution time: 0.13909506797790527 seconds\n",
      "Top colors: [array([40, 44, 50], dtype=uint8), array([65, 76, 95], dtype=uint8), array([117, 124, 128], dtype=uint8), array([23, 28, 40], dtype=uint8)]\n",
      "Top counts: [1395  824  795  936]\n",
      "find_top_colors_hsv execution time: 0.11251592636108398 seconds\n",
      "Top colors: [array([100, 100, 106], dtype=uint8), array([112, 107, 101], dtype=uint8), array([39, 39, 47], dtype=uint8), array([44, 57, 86], dtype=uint8)]\n",
      "Top counts: [ 554  386 2068  912]\n"
     ]
    },
    {
     "name": "stderr",
     "output_type": "stream",
     "text": []
    },
    {
     "name": "stdout",
     "output_type": "stream",
     "text": [
      "find_top_colors_hsv execution time: 0.11144018173217773 seconds\n",
      "Top colors: [array([47, 59, 79], dtype=uint8), array([82, 89, 98], dtype=uint8), array([ 89, 105, 128], dtype=uint8), array([172, 183, 174], dtype=uint8)]\n",
      "Top counts: [1301  806 1486  334]\n",
      "find_top_colors_hsv execution time: 0.13155364990234375 seconds\n",
      "Top colors: [array([40, 58, 88], dtype=uint8), array([150, 157, 167], dtype=uint8), array([41, 45, 53], dtype=uint8), array([ 90,  95, 102], dtype=uint8)]\n",
      "Top counts: [1068  676 1135 1041]\n"
     ]
    },
    {
     "name": "stderr",
     "output_type": "stream",
     "text": [
      "100%|██████████| 21/21 [00:02<00:00,  7.39it/s]\n",
      " 33%|███▎      | 3/9 [00:07<00:13,  2.31s/it]"
     ]
    },
    {
     "name": "stdout",
     "output_type": "stream",
     "text": [
      "find_top_colors_hsv execution time: 0.16597819328308105 seconds\n",
      "Top colors: [array([124, 134, 131], dtype=uint8), array([42, 57, 87], dtype=uint8), array([45, 49, 54], dtype=uint8), array([63, 61, 55], dtype=uint8)]\n",
      "Top counts: [ 780  660 2087  438]\n",
      "find_top_colors_hsv execution time: 0.1013791561126709 seconds\n",
      "Top colors: [array([73, 77, 81], dtype=uint8), array([31, 42, 68], dtype=uint8), array([34, 37, 43], dtype=uint8), array([78, 78, 73], dtype=uint8)]\n",
      "Top counts: [1183  993 1537  240]\n"
     ]
    },
    {
     "name": "stderr",
     "output_type": "stream",
     "text": []
    },
    {
     "name": "stdout",
     "output_type": "stream",
     "text": [
      "find_top_colors_hsv execution time: 0.11190199851989746 seconds\n",
      "Top colors: [array([170, 179, 190], dtype=uint8), array([63, 76, 90], dtype=uint8), array([106, 121, 139], dtype=uint8), array([165, 160, 154], dtype=uint8)]\n",
      "Top counts: [ 490 1554 1722  178]\n",
      "find_top_colors_hsv execution time: 0.06590914726257324 seconds\n",
      "Top colors: [array([0, 0, 0], dtype=uint8), array([148, 158, 166], dtype=uint8), array([68, 78, 89], dtype=uint8), array([149, 147, 141], dtype=uint8)]\n",
      "Top counts: [3734   53   79   40]\n"
     ]
    },
    {
     "name": "stderr",
     "output_type": "stream",
     "text": []
    },
    {
     "name": "stdout",
     "output_type": "stream",
     "text": [
      "find_top_colors_hsv execution time: 0.13437390327453613 seconds\n",
      "Top colors: [array([31, 49, 62], dtype=uint8), array([166, 175, 183], dtype=uint8), array([ 90, 106, 122], dtype=uint8), array([52, 59, 67], dtype=uint8)]\n",
      "Top counts: [ 797  480 1621 1062]\n"
     ]
    },
    {
     "name": "stderr",
     "output_type": "stream",
     "text": []
    },
    {
     "name": "stdout",
     "output_type": "stream",
     "text": [
      "find_top_colors_hsv execution time: 0.25020694732666016 seconds\n",
      "Top colors: [array([101, 113, 132], dtype=uint8), array([177, 187, 201], dtype=uint8), array([233, 242, 247], dtype=uint8), array([50, 54, 77], dtype=uint8)]\n",
      "Top counts: [1257 1046  973  674]\n",
      "find_top_colors_hsv execution time: 0.10184884071350098 seconds\n",
      "Top colors: [array([76, 72, 66], dtype=uint8), array([141, 151, 163], dtype=uint8), array([77, 80, 85], dtype=uint8), array([37, 38, 46], dtype=uint8)]\n",
      "Top counts: [ 635  684 1280 1328]\n"
     ]
    },
    {
     "name": "stderr",
     "output_type": "stream",
     "text": []
    },
    {
     "name": "stdout",
     "output_type": "stream",
     "text": [
      "find_top_colors_hsv execution time: 0.09496712684631348 seconds\n",
      "Top colors: [array([175, 197, 213], dtype=uint8), array([70, 84, 99], dtype=uint8), array([130, 145, 153], dtype=uint8), array([128,  64,  89], dtype=uint8)]\n",
      "Top counts: [1340  964 1457  159]\n",
      "find_top_colors_hsv execution time: 0.08405303955078125 seconds\n",
      "Top colors: [array([50, 67, 78], dtype=uint8), array([163, 183, 199], dtype=uint8), array([13, 26, 39], dtype=uint8), array([112, 129, 132], dtype=uint8)]\n",
      "Top counts: [1380 1381  373  834]\n"
     ]
    },
    {
     "name": "stderr",
     "output_type": "stream",
     "text": []
    },
    {
     "name": "stdout",
     "output_type": "stream",
     "text": [
      "find_top_colors_hsv execution time: 0.1115572452545166 seconds\n",
      "Top colors: [array([108, 122, 139], dtype=uint8), array([160, 176, 189], dtype=uint8), array([229, 238, 245], dtype=uint8), array([43, 55, 72], dtype=uint8)]\n",
      "Top counts: [ 926 1075 1303  656]\n",
      "find_top_colors_hsv execution time: 0.08520221710205078 seconds\n",
      "Top colors: [array([ 4, 13, 24], dtype=uint8), array([109, 117, 126], dtype=uint8), array([183, 194, 206], dtype=uint8), array([46, 58, 71], dtype=uint8)]\n",
      "Top counts: [165 442 722 639]\n"
     ]
    },
    {
     "name": "stderr",
     "output_type": "stream",
     "text": []
    },
    {
     "name": "stdout",
     "output_type": "stream",
     "text": [
      "find_top_colors_hsv execution time: 0.10481524467468262 seconds\n",
      "Top colors: [array([161, 178, 195], dtype=uint8), array([59, 68, 76], dtype=uint8), array([39, 55, 68], dtype=uint8), array([114, 125, 130], dtype=uint8)]\n",
      "Top counts: [1033  708  924 1239]\n",
      "find_top_colors_hsv execution time: 0.12826895713806152 seconds\n",
      "Top colors: [array([34, 44, 59], dtype=uint8), array([116, 136, 147], dtype=uint8), array([ 70,  84, 100], dtype=uint8), array([157, 181, 203], dtype=uint8)]\n",
      "Top counts: [ 829 1177 1069  825]\n"
     ]
    },
    {
     "name": "stderr",
     "output_type": "stream",
     "text": []
    },
    {
     "name": "stdout",
     "output_type": "stream",
     "text": [
      "find_top_colors_hsv execution time: 0.1043081283569336 seconds\n",
      "Top colors: [array([114, 127, 133], dtype=uint8), array([15, 29, 43], dtype=uint8), array([166, 184, 200], dtype=uint8), array([51, 68, 82], dtype=uint8)]\n",
      "Top counts: [1301  225 1206 1236]\n",
      "find_top_colors_hsv execution time: 0.1162419319152832 seconds\n",
      "Top colors: [array([158, 162, 167], dtype=uint8), array([88, 88, 81], dtype=uint8), array([54, 58, 64], dtype=uint8), array([190, 185, 149], dtype=uint8)]\n",
      "Top counts: [1005  649 1776  530]\n"
     ]
    },
    {
     "name": "stderr",
     "output_type": "stream",
     "text": []
    },
    {
     "name": "stdout",
     "output_type": "stream",
     "text": [
      "find_top_colors_hsv execution time: 0.18422913551330566 seconds\n",
      "Top colors: [array([145, 157, 164], dtype=uint8), array([113, 120, 116], dtype=uint8), array([63, 70, 79], dtype=uint8), array([ 95,  96, 133], dtype=uint8)]\n",
      "Top counts: [1062 1230  765  848]\n",
      "find_top_colors_hsv execution time: 0.08548307418823242 seconds\n",
      "Top colors: [array([39, 44, 47], dtype=uint8), array([154, 162, 169], dtype=uint8), array([20, 28, 35], dtype=uint8), array([ 88,  95, 100], dtype=uint8)]\n",
      "Top counts: [1617  517  606 1202]\n",
      "find_top_colors_hsv execution time: 0.08429694175720215 seconds\n",
      "Top colors: [array([108, 112, 121], dtype=uint8), array([55, 58, 66], dtype=uint8), array([177, 184, 186], dtype=uint8), array([24, 26, 36], dtype=uint8)]\n",
      "Top counts: [322 693 541 149]\n"
     ]
    },
    {
     "name": "stderr",
     "output_type": "stream",
     "text": []
    },
    {
     "name": "stdout",
     "output_type": "stream",
     "text": [
      "find_top_colors_hsv execution time: 0.11593484878540039 seconds\n",
      "Top colors: [array([63, 73, 89], dtype=uint8), array([170, 190, 210], dtype=uint8), array([119, 127, 137], dtype=uint8), array([24, 35, 51], dtype=uint8)]\n",
      "Top counts: [1161 1466  975  298]\n",
      "find_top_colors_hsv execution time: 0.1209709644317627 seconds\n",
      "Top colors: [array([ 94, 103, 113], dtype=uint8), array([157, 176, 198], dtype=uint8), array([143, 141, 139], dtype=uint8), array([45, 61, 79], dtype=uint8)]\n",
      "Top counts: [1309 1268  165 1191]\n"
     ]
    },
    {
     "name": "stderr",
     "output_type": "stream",
     "text": []
    },
    {
     "name": "stdout",
     "output_type": "stream",
     "text": [
      "find_top_colors_hsv execution time: 0.10317087173461914 seconds\n",
      "Top colors: [array([174, 175, 167], dtype=uint8), array([37, 46, 50], dtype=uint8), array([135, 145, 145], dtype=uint8), array([175, 194, 195], dtype=uint8)]\n",
      "Top counts: [ 208  988 1082 1583]\n",
      "find_top_colors_hsv execution time: 0.09541201591491699 seconds\n",
      "Top colors: [array([150, 171, 186], dtype=uint8), array([40, 55, 69], dtype=uint8), array([105, 119, 123], dtype=uint8), array([48, 57, 63], dtype=uint8)]\n",
      "Top counts: [1254  911 1061  718]\n"
     ]
    },
    {
     "name": "stderr",
     "output_type": "stream",
     "text": []
    },
    {
     "name": "stdout",
     "output_type": "stream",
     "text": [
      "find_top_colors_hsv execution time: 0.10803699493408203 seconds\n",
      "Top colors: [array([101, 121, 144], dtype=uint8), array([82, 87, 95], dtype=uint8), array([177, 197, 196], dtype=uint8), array([51, 56, 86], dtype=uint8)]\n",
      "Top counts: [1056 1605  549  732]\n",
      "find_top_colors_hsv execution time: 0.08514523506164551 seconds\n",
      "Top colors: [array([110, 121, 124], dtype=uint8), array([19, 33, 45], dtype=uint8), array([161, 180, 191], dtype=uint8), array([52, 65, 75], dtype=uint8)]\n",
      "Top counts: [1239  289 1257 1120]\n"
     ]
    },
    {
     "name": "stderr",
     "output_type": "stream",
     "text": []
    },
    {
     "name": "stdout",
     "output_type": "stream",
     "text": [
      "find_top_colors_hsv execution time: 0.11307477951049805 seconds\n",
      "Top colors: [array([112, 127, 142], dtype=uint8), array([180, 196, 210], dtype=uint8), array([175, 173, 167], dtype=uint8), array([46, 55, 74], dtype=uint8)]\n",
      "Top counts: [1540 1572  158  730]\n",
      "find_top_colors_hsv execution time: 0.13639378547668457 seconds\n",
      "Top colors: [array([42, 50, 55], dtype=uint8), array([139, 151, 147], dtype=uint8), array([175, 193, 194], dtype=uint8), array([86, 93, 91], dtype=uint8)]\n",
      "Top counts: [1042 1772  661  461]\n"
     ]
    },
    {
     "name": "stderr",
     "output_type": "stream",
     "text": []
    },
    {
     "name": "stdout",
     "output_type": "stream",
     "text": [
      "find_top_colors_hsv execution time: 0.11454582214355469 seconds\n",
      "Top colors: [array([53, 56, 79], dtype=uint8), array([172, 183, 192], dtype=uint8), array([104, 122, 150], dtype=uint8), array([83, 88, 95], dtype=uint8)]\n",
      "Top counts: [ 477  488  999 1936]\n",
      "find_top_colors_hsv execution time: 0.158308744430542 seconds\n",
      "Top colors: [array([149, 155, 166], dtype=uint8), array([ 94,  99, 106], dtype=uint8), array([205, 211, 221], dtype=uint8), array([52, 55, 64], dtype=uint8)]\n",
      "Top counts: [192 620 179 179]\n"
     ]
    },
    {
     "name": "stderr",
     "output_type": "stream",
     "text": []
    },
    {
     "name": "stdout",
     "output_type": "stream",
     "text": [
      "find_top_colors_hsv execution time: 0.12518095970153809 seconds\n",
      "Top colors: [array([74, 80, 89], dtype=uint8), array([159, 173, 176], dtype=uint8), array([57, 72, 89], dtype=uint8), array([ 97, 113, 133], dtype=uint8)]\n",
      "Top counts: [ 534  554 1149 1696]\n"
     ]
    },
    {
     "name": "stderr",
     "output_type": "stream",
     "text": []
    },
    {
     "name": "stdout",
     "output_type": "stream",
     "text": [
      "find_top_colors_hsv execution time: 0.2394559383392334 seconds\n",
      "Top colors: [array([ 94, 110, 125], dtype=uint8), array([ 9, 23, 37], dtype=uint8), array([158, 172, 183], dtype=uint8), array([55, 71, 84], dtype=uint8)]\n",
      "Top counts: [1707  205  624 1015]\n",
      "find_top_colors_hsv execution time: 0.09601902961730957 seconds\n",
      "Top colors: [array([221, 235, 242], dtype=uint8), array([64, 74, 92], dtype=uint8), array([158, 178, 193], dtype=uint8), array([121, 139, 144], dtype=uint8)]\n",
      "Top counts: [ 503  940 1305 1194]\n"
     ]
    },
    {
     "name": "stderr",
     "output_type": "stream",
     "text": [
      "100%|██████████| 31/31 [00:03<00:00,  7.91it/s]\n",
      " 44%|████▍     | 4/9 [00:11<00:14,  2.87s/it]"
     ]
    },
    {
     "name": "stdout",
     "output_type": "stream",
     "text": [
      "find_top_colors_hsv execution time: 0.09408283233642578 seconds\n",
      "Top colors: [array([ 92, 107, 124], dtype=uint8), array([47, 61, 72], dtype=uint8), array([165, 178, 186], dtype=uint8), array([19, 32, 43], dtype=uint8)]\n",
      "Top counts: [1340 1829  413  322]\n",
      "find_top_colors_hsv execution time: 0.1002357006072998 seconds\n",
      "Top colors: [array([44, 58, 73], dtype=uint8), array([74, 82, 91], dtype=uint8), array([104, 123, 143], dtype=uint8), array([148, 157, 161], dtype=uint8)]\n",
      "Top counts: [1201 1047 1159  526]\n"
     ]
    },
    {
     "name": "stderr",
     "output_type": "stream",
     "text": []
    },
    {
     "name": "stdout",
     "output_type": "stream",
     "text": [
      "find_top_colors_hsv execution time: 0.16415905952453613 seconds\n",
      "Top colors: [array([100, 113, 127], dtype=uint8), array([ 9, 20, 34], dtype=uint8), array([180, 192, 205], dtype=uint8), array([48, 60, 71], dtype=uint8)]\n",
      "Top counts: [610 249 231 845]\n",
      "find_top_colors_hsv execution time: 0.09226107597351074 seconds\n",
      "Top colors: [array([ 71,  87, 104], dtype=uint8), array([124, 132, 132], dtype=uint8), array([60, 67, 73], dtype=uint8), array([41, 56, 69], dtype=uint8)]\n",
      "Top counts: [1337  644 1072  900]\n"
     ]
    },
    {
     "name": "stderr",
     "output_type": "stream",
     "text": []
    },
    {
     "name": "stdout",
     "output_type": "stream",
     "text": [
      "find_top_colors_hsv execution time: 0.1030738353729248 seconds\n",
      "Top colors: [array([86, 91, 98], dtype=uint8), array([41, 46, 52], dtype=uint8), array([172, 186, 186], dtype=uint8), array([100,  99,  93], dtype=uint8)]\n",
      "Top counts: [1396 1434  760  343]\n",
      "find_top_colors_hsv execution time: 0.08435893058776855 seconds\n",
      "Top colors: [array([56, 70, 80], dtype=uint8), array([23, 36, 45], dtype=uint8), array([ 2, 12, 22], dtype=uint8), array([123, 135, 145], dtype=uint8)]\n",
      "Top counts: [638 248  53 163]\n",
      "find_top_colors_hsv execution time: 0.06747603416442871 seconds\n",
      "Top colors: [array([58, 66, 73], dtype=uint8), array([ 91, 105, 120], dtype=uint8), array([45, 60, 75], dtype=uint8), array([156, 167, 170], dtype=uint8)]\n",
      "Top counts: [1007 1520  955  478]\n"
     ]
    },
    {
     "name": "stderr",
     "output_type": "stream",
     "text": []
    },
    {
     "name": "stdout",
     "output_type": "stream",
     "text": [
      "find_top_colors_hsv execution time: 0.1991901397705078 seconds\n",
      "Top colors: [array([47, 56, 63], dtype=uint8), array([165, 172, 176], dtype=uint8), array([115, 114, 110], dtype=uint8), array([107, 117, 126], dtype=uint8)]\n",
      "Top counts: [1347  733  262 1608]\n",
      "find_top_colors_hsv execution time: 0.1209108829498291 seconds\n",
      "Top colors: [array([106, 114, 123], dtype=uint8), array([59, 68, 81], dtype=uint8), array([124, 120, 113], dtype=uint8), array([96, 74, 84], dtype=uint8)]\n",
      "Top counts: [1695 1945  144  143]\n"
     ]
    },
    {
     "name": "stderr",
     "output_type": "stream",
     "text": []
    },
    {
     "name": "stdout",
     "output_type": "stream",
     "text": [
      "find_top_colors_hsv execution time: 0.12087130546569824 seconds\n",
      "Top colors: [array([ 92, 102, 106], dtype=uint8), array([55, 58, 58], dtype=uint8), array([96, 94, 86], dtype=uint8), array([40, 46, 51], dtype=uint8)]\n",
      "Top counts: [1361  730  705 1194]\n",
      "find_top_colors_hsv execution time: 0.11944985389709473 seconds\n",
      "Top colors: [array([212, 223, 231], dtype=uint8), array([72, 78, 88], dtype=uint8), array([17, 23, 40], dtype=uint8), array([142, 156, 168], dtype=uint8)]\n",
      "Top counts: [ 547 1197  308 1068]\n"
     ]
    },
    {
     "name": "stderr",
     "output_type": "stream",
     "text": []
    },
    {
     "name": "stdout",
     "output_type": "stream",
     "text": [
      "find_top_colors_hsv execution time: 0.11429810523986816 seconds\n",
      "Top colors: [array([77, 44, 74], dtype=uint8), array([117, 119, 137], dtype=uint8), array([108,  97,  92], dtype=uint8), array([49, 48, 56], dtype=uint8)]\n",
      "Top counts: [ 567 1138  474 1721]\n",
      "find_top_colors_hsv execution time: 0.08839988708496094 seconds\n",
      "Top colors: [array([62, 67, 70], dtype=uint8), array([137, 145, 152], dtype=uint8), array([ 82,  92, 123], dtype=uint8), array([40, 45, 56], dtype=uint8)]\n",
      "Top counts: [2222  403  575  778]\n",
      "find_top_colors_hsv execution time: 0.11572885513305664 seconds\n",
      "Top colors: [array([57, 70, 88], dtype=uint8), array([56, 61, 65], dtype=uint8), array([135, 128, 119], dtype=uint8), array([131, 137, 147], dtype=uint8)]\n",
      "Top counts: [1420 1883  193  454]\n"
     ]
    },
    {
     "name": "stderr",
     "output_type": "stream",
     "text": []
    },
    {
     "name": "stdout",
     "output_type": "stream",
     "text": [
      "find_top_colors_hsv execution time: 0.13169574737548828 seconds\n",
      "Top colors: [array([ 98, 114, 124], dtype=uint8), array([ 9, 24, 35], dtype=uint8), array([48, 64, 74], dtype=uint8), array([178, 195, 203], dtype=uint8)]\n",
      "Top counts: [1444  260 1099  329]\n",
      "find_top_colors_hsv execution time: 0.07730293273925781 seconds\n",
      "Top colors: [array([108, 124, 141], dtype=uint8), array([57, 72, 84], dtype=uint8), array([ 8, 23, 38], dtype=uint8), array([198, 212, 223], dtype=uint8)]\n",
      "Top counts: [903 883 167 189]\n"
     ]
    },
    {
     "name": "stderr",
     "output_type": "stream",
     "text": []
    },
    {
     "name": "stdout",
     "output_type": "stream",
     "text": [
      "find_top_colors_hsv execution time: 0.2049870491027832 seconds\n",
      "Top colors: [array([58, 66, 75], dtype=uint8), array([180, 197, 204], dtype=uint8), array([ 96, 107, 123], dtype=uint8), array([27, 38, 58], dtype=uint8)]\n",
      "Top counts: [1097  803 1689  331]\n",
      "find_top_colors_hsv execution time: 0.08939981460571289 seconds\n",
      "Top colors: [array([130, 123, 118], dtype=uint8), array([68, 63, 60], dtype=uint8), array([196, 199, 200], dtype=uint8), array([65, 63, 68], dtype=uint8)]\n",
      "Top counts: [1460 1320  531  639]\n"
     ]
    },
    {
     "name": "stderr",
     "output_type": "stream",
     "text": []
    },
    {
     "name": "stdout",
     "output_type": "stream",
     "text": [
      "find_top_colors_hsv execution time: 0.1453859806060791 seconds\n",
      "Top colors: [array([67, 71, 84], dtype=uint8), array([193, 203, 214], dtype=uint8), array([ 66,  77, 106], dtype=uint8), array([115, 124, 138], dtype=uint8)]\n",
      "Top counts: [ 915  692  904 1464]\n",
      "find_top_colors_hsv execution time: 0.10108804702758789 seconds\n",
      "Top colors: [array([106, 106, 100], dtype=uint8), array([63, 63, 56], dtype=uint8), array([111, 103,  96], dtype=uint8), array([182, 167, 162], dtype=uint8)]\n",
      "Top counts: [2029  756 1073   62]\n"
     ]
    },
    {
     "name": "stderr",
     "output_type": "stream",
     "text": []
    },
    {
     "name": "stdout",
     "output_type": "stream",
     "text": [
      "find_top_colors_hsv execution time: 0.16136622428894043 seconds\n",
      "Top colors: [array([78, 88, 97], dtype=uint8), array([42, 55, 66], dtype=uint8), array([173, 181, 188], dtype=uint8), array([ 6, 15, 26], dtype=uint8)]\n",
      "Top counts: [795 743 240 108]\n",
      "find_top_colors_hsv execution time: 0.12455320358276367 seconds\n",
      "Top colors: [array([60, 74, 86], dtype=uint8), array([48, 54, 59], dtype=uint8), array([123, 134, 138], dtype=uint8), array([22, 32, 42], dtype=uint8)]\n",
      "Top counts: [1179 1430  624  720]\n"
     ]
    },
    {
     "name": "stderr",
     "output_type": "stream",
     "text": []
    },
    {
     "name": "stdout",
     "output_type": "stream",
     "text": [
      "find_top_colors_hsv execution time: 0.07934808731079102 seconds\n",
      "Top colors: [array([69, 74, 79], dtype=uint8), array([107, 115, 128], dtype=uint8), array([189, 197, 196], dtype=uint8), array([ 64,  76, 100], dtype=uint8)]\n",
      "Top counts: [1402  745  374 1423]\n",
      "find_top_colors_hsv execution time: 0.10699295997619629 seconds\n",
      "Top colors: [array([26, 38, 56], dtype=uint8), array([ 61,  79, 103], dtype=uint8), array([147, 158, 171], dtype=uint8), array([54, 62, 74], dtype=uint8)]\n",
      "Top counts: [ 558 1934  528  948]\n"
     ]
    },
    {
     "name": "stderr",
     "output_type": "stream",
     "text": []
    },
    {
     "name": "stdout",
     "output_type": "stream",
     "text": [
      "find_top_colors_hsv execution time: 0.15785789489746094 seconds\n",
      "Top colors: [array([107, 118, 132], dtype=uint8), array([53, 63, 77], dtype=uint8), array([191, 201, 211], dtype=uint8), array([ 5, 13, 26], dtype=uint8)]\n",
      "Top counts: [1363 1560  364  297]\n",
      "find_top_colors_hsv execution time: 0.18456101417541504 seconds\n",
      "Top colors: [array([119, 122, 129], dtype=uint8), array([65, 61, 56], dtype=uint8), array([52, 49, 56], dtype=uint8), array([34, 24, 38], dtype=uint8)]\n",
      "Top counts: [ 520 1057 1804  524]\n"
     ]
    },
    {
     "name": "stderr",
     "output_type": "stream",
     "text": []
    },
    {
     "name": "stdout",
     "output_type": "stream",
     "text": [
      "find_top_colors_hsv execution time: 0.09165811538696289 seconds\n",
      "Top colors: [array([79, 63, 77], dtype=uint8), array([152, 141, 158], dtype=uint8), array([70, 81, 94], dtype=uint8), array([30, 18, 35], dtype=uint8)]\n",
      "Top counts: [836 866 890 243]\n",
      "find_top_colors_hsv execution time: 0.07109284400939941 seconds\n",
      "Top colors: [array([201, 212, 222], dtype=uint8), array([ 4, 13, 28], dtype=uint8), array([53, 64, 80], dtype=uint8), array([116, 128, 142], dtype=uint8)]\n",
      "Top counts: [ 308  252 1296 1072]\n",
      "find_top_colors_hsv execution time: 0.0898430347442627 seconds\n",
      "Top colors: [array([113, 118, 120], dtype=uint8), array([49, 46, 58], dtype=uint8), array([196, 198, 207], dtype=uint8), array([ 5,  5, 17], dtype=uint8)]\n",
      "Top counts: [1259 1930  534  237]\n"
     ]
    },
    {
     "name": "stderr",
     "output_type": "stream",
     "text": []
    },
    {
     "name": "stdout",
     "output_type": "stream",
     "text": [
      "find_top_colors_hsv execution time: 0.08790206909179688 seconds\n",
      "Top colors: [array([51, 59, 68], dtype=uint8), array([180, 198, 199], dtype=uint8), array([ 81, 103, 124], dtype=uint8), array([84, 90, 96], dtype=uint8)]\n",
      "Top counts: [1322  563 1195  880]\n",
      "find_top_colors_hsv execution time: 0.12355375289916992 seconds\n",
      "Top colors: [array([111, 120, 130], dtype=uint8), array([52, 59, 67], dtype=uint8), array([202, 209, 217], dtype=uint8), array([14, 22, 32], dtype=uint8)]\n",
      "Top counts: [ 934 1695  420  343]\n"
     ]
    },
    {
     "name": "stderr",
     "output_type": "stream",
     "text": [
      "100%|██████████| 30/30 [00:04<00:00,  6.94it/s]\n",
      " 56%|█████▌    | 5/9 [00:15<00:13,  3.35s/it]"
     ]
    },
    {
     "name": "stdout",
     "output_type": "stream",
     "text": [
      "find_top_colors_hsv execution time: 0.14130496978759766 seconds\n",
      "Top colors: [array([165, 171, 172], dtype=uint8), array([46, 51, 56], dtype=uint8), array([26, 17, 37], dtype=uint8), array([ 91,  95, 105], dtype=uint8)]\n",
      "Top counts: [ 846  985  232 1153]\n"
     ]
    },
    {
     "name": "stderr",
     "output_type": "stream",
     "text": []
    },
    {
     "name": "stdout",
     "output_type": "stream",
     "text": [
      "find_top_colors_hsv execution time: 0.15198111534118652 seconds\n",
      "Top colors: [array([85, 86, 84], dtype=uint8), array([71, 59, 73], dtype=uint8), array([56, 21, 49], dtype=uint8), array([177, 169, 180], dtype=uint8)]\n",
      "Top counts: [394 569 247 341]\n",
      "find_top_colors_hsv execution time: 0.1064300537109375 seconds\n",
      "Top colors: [array([45, 39, 46], dtype=uint8), array([106,  48,  58], dtype=uint8), array([67, 59, 55], dtype=uint8), array([151, 160, 151], dtype=uint8)]\n",
      "Top counts: [1865 1227  413  401]\n"
     ]
    },
    {
     "name": "stderr",
     "output_type": "stream",
     "text": []
    },
    {
     "name": "stdout",
     "output_type": "stream",
     "text": [
      "find_top_colors_hsv execution time: 0.24390411376953125 seconds\n",
      "Top colors: [array([ 82,  93, 104], dtype=uint8), array([56, 14, 35], dtype=uint8), array([186, 152, 183], dtype=uint8), array([102,  62,  79], dtype=uint8)]\n",
      "Top counts: [886 460 611 883]\n",
      "find_top_colors_hsv execution time: 0.06918096542358398 seconds\n",
      "Top colors: [array([82, 77, 84], dtype=uint8), array([49, 41, 37], dtype=uint8), array([77, 51, 56], dtype=uint8), array([125, 122, 116], dtype=uint8)]\n",
      "Top counts: [1052  913  742 1213]\n"
     ]
    },
    {
     "name": "stderr",
     "output_type": "stream",
     "text": []
    },
    {
     "name": "stdout",
     "output_type": "stream",
     "text": [
      "find_top_colors_hsv execution time: 0.14213085174560547 seconds\n",
      "Top colors: [array([76, 63, 70], dtype=uint8), array([45, 47, 50], dtype=uint8), array([111,  51,  63], dtype=uint8), array([ 99, 100,  96], dtype=uint8)]\n",
      "Top counts: [ 778 2064  753  291]\n",
      "find_top_colors_hsv execution time: 0.05622506141662598 seconds\n",
      "Top colors: [array([193, 192, 201], dtype=uint8), array([62, 52, 64], dtype=uint8), array([88, 77, 73], dtype=uint8), array([80, 28, 61], dtype=uint8)]\n",
      "Top counts: [127 234 150 161]\n",
      "find_top_colors_hsv execution time: 0.07998085021972656 seconds\n",
      "Top colors: [array([ 7,  9, 29], dtype=uint8), array([150, 144, 135], dtype=uint8), array([163, 143, 163], dtype=uint8), array([52, 42, 52], dtype=uint8)]\n",
      "Top counts: [263 799 550 968]\n"
     ]
    },
    {
     "name": "stderr",
     "output_type": "stream",
     "text": []
    },
    {
     "name": "stdout",
     "output_type": "stream",
     "text": [
      "find_top_colors_hsv execution time: 0.0733649730682373 seconds\n",
      "Top colors: [array([87, 47, 55], dtype=uint8), array([150, 145, 135], dtype=uint8), array([29, 14,  8], dtype=uint8), array([50, 40, 35], dtype=uint8)]\n",
      "Top counts: [210 262 149 249]\n",
      "find_top_colors_hsv execution time: 0.1039121150970459 seconds\n",
      "Top colors: [array([149,  85, 104], dtype=uint8), array([59, 58, 69], dtype=uint8), array([ 99, 139, 139], dtype=uint8), array([98, 51, 65], dtype=uint8)]\n",
      "Top counts: [1221  886  863  950]\n",
      "find_top_colors_hsv execution time: 0.07501912117004395 seconds\n",
      "Top colors: [array([69, 65, 80], dtype=uint8), array([ 97, 131, 139], dtype=uint8), array([100,  47,  63], dtype=uint8), array([164, 105, 127], dtype=uint8)]\n",
      "Top counts: [ 895  857 1160 1057]\n"
     ]
    },
    {
     "name": "stderr",
     "output_type": "stream",
     "text": []
    },
    {
     "name": "stdout",
     "output_type": "stream",
     "text": [
      "find_top_colors_hsv execution time: 0.08175492286682129 seconds\n",
      "Top colors: [array([194, 193, 191], dtype=uint8), array([66, 63, 60], dtype=uint8), array([65, 59, 67], dtype=uint8), array([132,  75,  86], dtype=uint8)]\n",
      "Top counts: [ 584  604 1542 1203]\n",
      "find_top_colors_hsv execution time: 0.0772709846496582 seconds\n",
      "Top colors: [array([70, 71, 64], dtype=uint8), array([60, 53, 61], dtype=uint8), array([183, 185, 178], dtype=uint8), array([132,  69,  82], dtype=uint8)]\n",
      "Top counts: [ 513 1578  645 1217]\n"
     ]
    },
    {
     "name": "stderr",
     "output_type": "stream",
     "text": []
    },
    {
     "name": "stdout",
     "output_type": "stream",
     "text": [
      "find_top_colors_hsv execution time: 0.12299799919128418 seconds\n",
      "Top colors: [array([66, 52, 63], dtype=uint8), array([152, 165, 180], dtype=uint8), array([137, 118, 133], dtype=uint8), array([69, 76, 86], dtype=uint8)]\n",
      "Top counts: [1111  769  820 1244]\n",
      "find_top_colors_hsv execution time: 0.1666109561920166 seconds\n",
      "Top colors: [array([75, 53, 61], dtype=uint8), array([90, 87, 84], dtype=uint8), array([126, 129, 136], dtype=uint8), array([42, 44, 50], dtype=uint8)]\n",
      "Top counts: [1173  216  952 1635]\n"
     ]
    },
    {
     "name": "stderr",
     "output_type": "stream",
     "text": []
    },
    {
     "name": "stdout",
     "output_type": "stream",
     "text": [
      "find_top_colors_hsv execution time: 0.12583088874816895 seconds\n",
      "Top colors: [array([144, 115,  99], dtype=uint8), array([127, 120, 112], dtype=uint8), array([113, 116, 114], dtype=uint8), array([113,  91,  76], dtype=uint8)]\n",
      "Top counts: [1480 1253  158 1019]\n"
     ]
    },
    {
     "name": "stderr",
     "output_type": "stream",
     "text": [
      "\n",
      " 56%|█████▋    | 18/32 [00:02<00:01,  7.70it/s]"
     ]
    },
    {
     "name": "stdout",
     "output_type": "stream",
     "text": [
      "find_top_colors_hsv execution time: 0.23261785507202148 seconds\n",
      "Top colors: [array([74, 60, 73], dtype=uint8), array([99, 80, 72], dtype=uint8), array([146, 154, 171], dtype=uint8), array([64, 77, 98], dtype=uint8)]\n",
      "Top counts: [1466  730  560 1197]\n",
      "find_top_colors_hsv execution time: 0.0687711238861084 seconds\n",
      "Top colors: [array([76, 62, 58], dtype=uint8), array([105,  93,  97], dtype=uint8), array([122, 107, 103], dtype=uint8), array([72, 77, 78], dtype=uint8)]\n",
      "Top counts: [ 713  742 1940  525]\n",
      "find_top_colors_hsv execution time: 0.11252307891845703 seconds\n",
      "Top colors: [array([77, 52, 61], dtype=uint8), array([86, 82, 77], dtype=uint8), array([132, 133, 144], dtype=uint8), array([49, 48, 55], dtype=uint8)]\n",
      "Top counts: [1198  677  885 1192]\n"
     ]
    },
    {
     "name": "stderr",
     "output_type": "stream",
     "text": [
      "\u001b[A"
     ]
    },
    {
     "name": "stdout",
     "output_type": "stream",
     "text": [
      "find_top_colors_hsv execution time: 0.10625004768371582 seconds\n",
      "Top colors: [array([49, 50, 55], dtype=uint8), array([179, 180, 144], dtype=uint8), array([98, 70, 80], dtype=uint8), array([74, 72, 64], dtype=uint8)]\n",
      "Top counts: [1376  461 1390  717]\n",
      "find_top_colors_hsv execution time: 0.09109306335449219 seconds\n",
      "Top colors: [array([54, 51, 46], dtype=uint8), array([55, 52, 58], dtype=uint8), array([129, 125, 105], dtype=uint8), array([79, 48, 56], dtype=uint8)]\n",
      "Top counts: [1402 1142  801  623]\n",
      "find_top_colors_hsv execution time: 0.06996417045593262 seconds\n",
      "Top colors: [array([182, 158, 147], dtype=uint8), array([95, 88, 98], dtype=uint8), array([48, 31, 12], dtype=uint8), array([73, 65, 62], dtype=uint8)]\n",
      "Top counts: [1420  839  347  873]\n"
     ]
    },
    {
     "name": "stderr",
     "output_type": "stream",
     "text": []
    },
    {
     "name": "stdout",
     "output_type": "stream",
     "text": [
      "find_top_colors_hsv execution time: 0.14649295806884766 seconds\n",
      "Top colors: [array([161, 134, 118], dtype=uint8), array([98, 71, 59], dtype=uint8), array([187, 117, 103], dtype=uint8), array([78, 66, 77], dtype=uint8)]\n",
      "Top counts: [1545 1371  888  148]\n",
      "find_top_colors_hsv execution time: 0.12157106399536133 seconds\n",
      "Top colors: [array([78, 31, 47], dtype=uint8), array([40, 36, 43], dtype=uint8), array([142, 133, 144], dtype=uint8), array([61, 46, 40], dtype=uint8)]\n",
      "Top counts: [ 960 2302  301  325]\n"
     ]
    },
    {
     "name": "stderr",
     "output_type": "stream",
     "text": []
    },
    {
     "name": "stdout",
     "output_type": "stream",
     "text": [
      "find_top_colors_hsv execution time: 0.10687112808227539 seconds\n",
      "Top colors: [array([157,  65,  90], dtype=uint8), array([51, 53, 68], dtype=uint8), array([90, 45, 61], dtype=uint8), array([139, 142, 152], dtype=uint8)]\n",
      "Top counts: [1311 1381  807  479]\n",
      "find_top_colors_hsv execution time: 0.11629104614257812 seconds\n",
      "Top colors: [array([193, 189, 218], dtype=uint8), array([59, 50, 68], dtype=uint8), array([132,  64,  78], dtype=uint8), array([103, 102, 126], dtype=uint8)]\n",
      "Top counts: [ 682  946  860 1462]\n"
     ]
    },
    {
     "name": "stderr",
     "output_type": "stream",
     "text": []
    },
    {
     "name": "stdout",
     "output_type": "stream",
     "text": [
      "find_top_colors_hsv execution time: 0.08481693267822266 seconds\n",
      "Top colors: [array([114, 105,  99], dtype=uint8), array([129, 119, 126], dtype=uint8), array([136,  98,  88], dtype=uint8), array([164, 153, 146], dtype=uint8)]\n",
      "Top counts: [1394  721  670 1159]\n",
      "find_top_colors_hsv execution time: 0.10040998458862305 seconds\n",
      "Top colors: [array([76, 69, 78], dtype=uint8), array([135, 141, 142], dtype=uint8), array([116,  63,  72], dtype=uint8), array([122, 114, 106], dtype=uint8)]\n",
      "Top counts: [1116 1659  484  697]\n"
     ]
    },
    {
     "name": "stderr",
     "output_type": "stream",
     "text": []
    },
    {
     "name": "stdout",
     "output_type": "stream",
     "text": [
      "find_top_colors_hsv execution time: 0.12275266647338867 seconds\n",
      "Top colors: [array([128, 131, 121], dtype=uint8), array([164, 141, 149], dtype=uint8), array([58, 56, 66], dtype=uint8), array([100,  59,  68], dtype=uint8)]\n",
      "Top counts: [1040  994 1033  855]\n",
      "find_top_colors_hsv execution time: 0.15097689628601074 seconds\n",
      "Top colors: [array([73, 69, 78], dtype=uint8), array([148, 143, 153], dtype=uint8), array([100,  65,  75], dtype=uint8), array([133, 122, 115], dtype=uint8)]\n",
      "Top counts: [1206 1008  998  756]\n"
     ]
    },
    {
     "name": "stderr",
     "output_type": "stream",
     "text": []
    },
    {
     "name": "stdout",
     "output_type": "stream",
     "text": [
      "find_top_colors_hsv execution time: 0.09414076805114746 seconds\n",
      "Top colors: [array([182, 162, 144], dtype=uint8), array([162, 140, 158], dtype=uint8), array([145, 143, 134], dtype=uint8), array([124, 100,  89], dtype=uint8)]\n",
      "Top counts: [1094   90 1606 1154]\n",
      "find_top_colors_hsv execution time: 0.10675573348999023 seconds\n",
      "Top colors: [array([105,  75,  91], dtype=uint8), array([58, 68, 85], dtype=uint8), array([60, 58, 66], dtype=uint8), array([147, 150, 155], dtype=uint8)]\n",
      "Top counts: [1447  930 1025  504]\n"
     ]
    },
    {
     "name": "stderr",
     "output_type": "stream",
     "text": [
      "100%|██████████| 32/32 [00:04<00:00,  7.65it/s]\n",
      " 67%|██████▋   | 6/9 [00:20<00:10,  3.62s/it]"
     ]
    },
    {
     "name": "stdout",
     "output_type": "stream",
     "text": [
      "find_top_colors_hsv execution time: 0.17765522003173828 seconds\n",
      "Top colors: [array([93, 78, 74], dtype=uint8), array([89, 55, 49], dtype=uint8), array([107, 110, 122], dtype=uint8), array([76, 53, 60], dtype=uint8)]\n",
      "Top counts: [ 396 1232 1490  782]\n"
     ]
    },
    {
     "name": "stderr",
     "output_type": "stream",
     "text": []
    },
    {
     "name": "stdout",
     "output_type": "stream",
     "text": [
      "find_top_colors_hsv execution time: 0.08395791053771973 seconds\n",
      "Top colors: [array([252, 249, 211], dtype=uint8), array([181, 172, 137], dtype=uint8), array([245, 235, 171], dtype=uint8), array([85, 76, 56], dtype=uint8)]\n",
      "Top counts: [1806  516 1546   84]\n",
      "find_top_colors_hsv execution time: 0.0830678939819336 seconds\n",
      "Top colors: [array([115, 109,  97], dtype=uint8), array([191, 183, 109], dtype=uint8), array([51, 51, 56], dtype=uint8), array([127, 118,  59], dtype=uint8)]\n",
      "Top counts: [ 594 2396  260  702]\n"
     ]
    },
    {
     "name": "stderr",
     "output_type": "stream",
     "text": []
    },
    {
     "name": "stdout",
     "output_type": "stream",
     "text": [
      "find_top_colors_hsv execution time: 0.09028792381286621 seconds\n",
      "Top colors: [array([235, 229, 148], dtype=uint8), array([188, 170, 147], dtype=uint8), array([181, 168, 172], dtype=uint8), array([211, 199,  86], dtype=uint8)]\n",
      "Top counts: [1436 1087  175 1246]\n"
     ]
    },
    {
     "name": "stderr",
     "output_type": "stream",
     "text": []
    },
    {
     "name": "stdout",
     "output_type": "stream",
     "text": [
      "find_top_colors_hsv execution time: 0.09527802467346191 seconds\n",
      "Top colors: [array([173, 185, 132], dtype=uint8), array([79, 76, 63], dtype=uint8), array([76, 79, 92], dtype=uint8), array([31, 35,  8], dtype=uint8)]\n",
      "Top counts: [ 904  705 1225  334]\n",
      "find_top_colors_hsv execution time: 0.1182088851928711 seconds\n",
      "Top colors: [array([58, 63, 60], dtype=uint8), array([232, 223, 103], dtype=uint8), array([58, 48, 25], dtype=uint8), array([180, 174, 156], dtype=uint8)]\n",
      "Top counts: [ 935 2155  380  466]\n"
     ]
    },
    {
     "name": "stderr",
     "output_type": "stream",
     "text": []
    },
    {
     "name": "stdout",
     "output_type": "stream",
     "text": [
      "find_top_colors_hsv execution time: 0.16393685340881348 seconds\n",
      "Top colors: [array([245, 233, 124], dtype=uint8), array([99, 93, 80], dtype=uint8), array([199, 186,  66], dtype=uint8), array([94, 80, 35], dtype=uint8)]\n",
      "Top counts: [2014  510 1224  202]\n"
     ]
    },
    {
     "name": "stderr",
     "output_type": "stream",
     "text": []
    },
    {
     "name": "stdout",
     "output_type": "stream",
     "text": [
      "find_top_colors_hsv execution time: 0.11879682540893555 seconds\n",
      "Top colors: [array([225, 216,  89], dtype=uint8), array([50, 58, 56], dtype=uint8), array([111, 122,  80], dtype=uint8), array([186, 187, 142], dtype=uint8)]\n",
      "Top counts: [2210  333  702  682]\n",
      "find_top_colors_hsv execution time: 0.082244873046875 seconds\n",
      "Top colors: [array([81, 82, 68], dtype=uint8), array([190, 178,  75], dtype=uint8), array([208, 199, 122], dtype=uint8), array([119, 110,  50], dtype=uint8)]\n",
      "Top counts: [ 842 1141 1431  564]\n"
     ]
    },
    {
     "name": "stderr",
     "output_type": "stream",
     "text": []
    },
    {
     "name": "stdout",
     "output_type": "stream",
     "text": [
      "find_top_colors_hsv execution time: 0.12050700187683105 seconds\n",
      "Top colors: [array([184, 156, 108], dtype=uint8), array([120, 107,  89], dtype=uint8), array([136, 108,  67], dtype=uint8), array([128, 109, 124], dtype=uint8)]\n",
      "Top counts: [2248  709  852   79]\n"
     ]
    },
    {
     "name": "stderr",
     "output_type": "stream",
     "text": []
    },
    {
     "name": "stdout",
     "output_type": "stream",
     "text": [
      "find_top_colors_hsv execution time: 0.10230898857116699 seconds\n",
      "Top colors: [array([158, 112, 124], dtype=uint8), array([242, 227, 133], dtype=uint8), array([185, 130,  82], dtype=uint8), array([202, 186, 153], dtype=uint8)]\n",
      "Top counts: [ 128 1862 1101  842]\n",
      "find_top_colors_hsv execution time: 0.07200217247009277 seconds\n",
      "Top colors: [array([236, 222, 131], dtype=uint8), array([180, 177, 160], dtype=uint8), array([200, 185,  85], dtype=uint8), array([199, 191, 140], dtype=uint8)]\n",
      "Top counts: [1120  681 1267  852]\n"
     ]
    },
    {
     "name": "stderr",
     "output_type": "stream",
     "text": []
    },
    {
     "name": "stdout",
     "output_type": "stream",
     "text": [
      "find_top_colors_hsv execution time: 0.08509516716003418 seconds\n",
      "Top colors: [array([39, 38,  6], dtype=uint8), array([74, 83, 97], dtype=uint8), array([190, 186, 125], dtype=uint8), array([63, 59, 48], dtype=uint8)]\n",
      "Top counts: [ 258 1036  894  416]\n"
     ]
    },
    {
     "name": "stderr",
     "output_type": "stream",
     "text": []
    },
    {
     "name": "stdout",
     "output_type": "stream",
     "text": [
      "find_top_colors_hsv execution time: 0.09118795394897461 seconds\n",
      "Top colors: [array([115, 112,  93], dtype=uint8), array([101, 100, 114], dtype=uint8), array([202, 192, 126], dtype=uint8), array([121, 104,  58], dtype=uint8)]\n",
      "Top counts: [ 804  279 2057  748]\n",
      "find_top_colors_hsv execution time: 0.08530688285827637 seconds\n",
      "Top colors: [array([149, 146, 131], dtype=uint8), array([151, 143, 102], dtype=uint8), array([50, 53, 45], dtype=uint8), array([107, 103,  79], dtype=uint8)]\n",
      "Top counts: [1602 1303  148  916]\n",
      "find_top_colors_hsv execution time: 0.10167193412780762 seconds\n",
      "Top colors: [array([68, 74, 89], dtype=uint8), array([180, 182, 125], dtype=uint8), array([33, 37,  6], dtype=uint8), array([71, 72, 56], dtype=uint8)]\n",
      "Top counts: [964 772 249 575]\n"
     ]
    },
    {
     "name": "stderr",
     "output_type": "stream",
     "text": []
    },
    {
     "name": "stdout",
     "output_type": "stream",
     "text": [
      "find_top_colors_hsv execution time: 0.20441508293151855 seconds\n",
      "Top colors: [array([196, 157,  51], dtype=uint8), array([162, 128,  61], dtype=uint8), array([110, 128, 115], dtype=uint8), array([122, 103,  66], dtype=uint8)]\n",
      "Top counts: [1146 1560  252 1002]\n",
      "find_top_colors_hsv execution time: 0.08870100975036621 seconds\n",
      "Top colors: [array([82, 85, 69], dtype=uint8), array([50, 46,  7], dtype=uint8), array([202, 197, 122], dtype=uint8), array([ 89, 106, 114], dtype=uint8)]\n",
      "Top counts: [508 248 625 984]\n"
     ]
    },
    {
     "name": "stderr",
     "output_type": "stream",
     "text": []
    },
    {
     "name": "stdout",
     "output_type": "stream",
     "text": [
      "find_top_colors_hsv execution time: 0.12404274940490723 seconds\n",
      "Top colors: [array([218, 220, 163], dtype=uint8), array([228, 220, 114], dtype=uint8), array([121, 131,  93], dtype=uint8), array([84, 86, 24], dtype=uint8)]\n",
      "Top counts: [ 566 1744  585  165]\n",
      "find_top_colors_hsv execution time: 0.0834648609161377 seconds\n",
      "Top colors: [array([203, 191, 115], dtype=uint8), array([47, 48, 39], dtype=uint8), array([121, 111,  60], dtype=uint8), array([143, 145, 123], dtype=uint8)]\n",
      "Top counts: [1688  595  820  845]\n"
     ]
    },
    {
     "name": "stderr",
     "output_type": "stream",
     "text": []
    },
    {
     "name": "stdout",
     "output_type": "stream",
     "text": [
      "find_top_colors_hsv execution time: 0.13894009590148926 seconds\n",
      "Top colors: [array([151, 149, 115], dtype=uint8), array([44, 51, 65], dtype=uint8), array([216, 201, 106], dtype=uint8), array([54, 50, 38], dtype=uint8)]\n",
      "Top counts: [ 611 1339 1504  468]\n",
      "find_top_colors_hsv execution time: 0.07921218872070312 seconds\n",
      "Top colors: [array([241, 230, 129], dtype=uint8), array([131, 132, 113], dtype=uint8), array([145, 131,  74], dtype=uint8), array([228, 213,  78], dtype=uint8)]\n",
      "Top counts: [2106  652  277  907]\n",
      "find_top_colors_hsv execution time: 0.06973505020141602 seconds\n",
      "Top colors: [array([60, 58, 71], dtype=uint8), array([34, 34,  5], dtype=uint8), array([60, 61, 48], dtype=uint8), array([166, 164, 113], dtype=uint8)]\n",
      "Top counts: [505 308 760 783]\n"
     ]
    },
    {
     "name": "stderr",
     "output_type": "stream",
     "text": []
    },
    {
     "name": "stdout",
     "output_type": "stream",
     "text": [
      "find_top_colors_hsv execution time: 0.08560299873352051 seconds\n",
      "Top colors: [array([227, 209,  94], dtype=uint8), array([82, 81, 68], dtype=uint8), array([160, 150, 116], dtype=uint8), array([118, 103,  43], dtype=uint8)]\n",
      "Top counts: [2648  498  349  405]\n",
      "find_top_colors_hsv execution time: 0.12158894538879395 seconds\n",
      "Top colors: [array([103,  96,  54], dtype=uint8), array([210, 203, 137], dtype=uint8), array([65, 66, 56], dtype=uint8), array([38, 30,  3], dtype=uint8)]\n",
      "Top counts: [1009 1176  637  412]\n"
     ]
    },
    {
     "name": "stderr",
     "output_type": "stream",
     "text": []
    },
    {
     "name": "stdout",
     "output_type": "stream",
     "text": [
      "find_top_colors_hsv execution time: 0.09981203079223633 seconds\n",
      "Top colors: [array([122, 120,  55], dtype=uint8), array([224, 206,  47], dtype=uint8), array([236, 227, 191], dtype=uint8), array([231, 219, 112], dtype=uint8)]\n",
      "Top counts: [ 188 1037  276  682]\n",
      "find_top_colors_hsv execution time: 0.11952781677246094 seconds\n",
      "Top colors: [array([50, 43, 34], dtype=uint8), array([179, 173,  94], dtype=uint8), array([138, 146, 131], dtype=uint8), array([54, 59, 67], dtype=uint8)]\n",
      "Top counts: [ 566  953 1265 1136]\n"
     ]
    },
    {
     "name": "stderr",
     "output_type": "stream",
     "text": []
    },
    {
     "name": "stdout",
     "output_type": "stream",
     "text": [
      "find_top_colors_hsv execution time: 0.30372095108032227 seconds\n",
      "Top colors: [array([44, 41, 19], dtype=uint8), array([171, 171, 118], dtype=uint8), array([66, 63, 54], dtype=uint8), array([57, 58, 69], dtype=uint8)]\n",
      "Top counts: [ 473  979 1079 1419]\n",
      "find_top_colors_hsv execution time: 0.18789100646972656 seconds\n",
      "Top colors: [array([127, 127,  44], dtype=uint8), array([131, 135,  96], dtype=uint8), array([54, 58, 51], dtype=uint8), array([205, 200,  69], dtype=uint8)]\n",
      "Top counts: [ 472  726  414 2288]\n"
     ]
    },
    {
     "name": "stderr",
     "output_type": "stream",
     "text": [
      "100%|██████████| 31/31 [00:03<00:00,  8.38it/s]\n",
      " 78%|███████▊  | 7/9 [00:23<00:07,  3.65s/it]"
     ]
    },
    {
     "name": "stdout",
     "output_type": "stream",
     "text": [
      "find_top_colors_hsv execution time: 0.11261796951293945 seconds\n",
      "Top colors: [array([138, 126, 108], dtype=uint8), array([62, 72, 75], dtype=uint8), array([216, 208, 175], dtype=uint8), array([146, 114, 122], dtype=uint8)]\n",
      "Top counts: [ 954  988 1615  418]\n",
      "find_top_colors_hsv execution time: 0.0724940299987793 seconds\n",
      "Top colors: [array([221, 197,  39], dtype=uint8), array([196, 194, 174], dtype=uint8), array([242, 221,  85], dtype=uint8), array([232, 216, 134], dtype=uint8)]\n",
      "Top counts: [1254  349 1269 1034]\n",
      "find_top_colors_hsv execution time: 0.08864784240722656 seconds\n",
      "Top colors: [array([105,  89,  73], dtype=uint8), array([65, 72, 79], dtype=uint8), array([197, 200, 167], dtype=uint8), array([30, 39,  6], dtype=uint8)]\n",
      "Top counts: [732 742 645 213]\n"
     ]
    },
    {
     "name": "stderr",
     "output_type": "stream",
     "text": []
    },
    {
     "name": "stdout",
     "output_type": "stream",
     "text": [
      "find_top_colors_hsv execution time: 0.10417318344116211 seconds\n",
      "Top colors: [array([33, 44, 48], dtype=uint8), array([185, 198, 198], dtype=uint8), array([57, 65, 66], dtype=uint8), array([108, 124, 119], dtype=uint8)]\n",
      "Top counts: [1010 1221  824  889]\n",
      "find_top_colors_hsv execution time: 0.1213371753692627 seconds\n",
      "Top colors: [array([222, 233, 234], dtype=uint8), array([63, 74, 89], dtype=uint8), array([146, 166, 173], dtype=uint8), array([ 97, 104, 110], dtype=uint8)]\n",
      "Top counts: [1471  882  946  601]\n"
     ]
    },
    {
     "name": "stderr",
     "output_type": "stream",
     "text": []
    },
    {
     "name": "stdout",
     "output_type": "stream",
     "text": [
      "find_top_colors_hsv execution time: 0.08864092826843262 seconds\n",
      "Top colors: [array([234, 247, 248], dtype=uint8), array([64, 80, 89], dtype=uint8), array([ 6, 19, 26], dtype=uint8), array([134, 147, 153], dtype=uint8)]\n",
      "Top counts: [1007  987  158  543]\n",
      "find_top_colors_hsv execution time: 0.09209871292114258 seconds\n",
      "Top colors: [array([61, 74, 90], dtype=uint8), array([215, 226, 235], dtype=uint8), array([16, 27, 39], dtype=uint8), array([126, 136, 145], dtype=uint8)]\n",
      "Top counts: [366 577  69 264]\n"
     ]
    },
    {
     "name": "stderr",
     "output_type": "stream",
     "text": []
    },
    {
     "name": "stdout",
     "output_type": "stream",
     "text": [
      "find_top_colors_hsv execution time: 0.13004088401794434 seconds\n",
      "Top colors: [array([ 84,  93, 107], dtype=uint8), array([228, 238, 241], dtype=uint8), array([159, 171, 173], dtype=uint8), array([49, 55, 66], dtype=uint8)]\n",
      "Top counts: [1106 1359  745  734]\n"
     ]
    },
    {
     "name": "stderr",
     "output_type": "stream",
     "text": []
    },
    {
     "name": "stdout",
     "output_type": "stream",
     "text": [
      "find_top_colors_hsv execution time: 0.2952272891998291 seconds\n",
      "Top colors: [array([226, 241, 244], dtype=uint8), array([ 74,  82, 103], dtype=uint8), array([154, 154, 150], dtype=uint8), array([147, 166, 177], dtype=uint8)]\n",
      "Top counts: [2113  803  109  919]\n",
      "find_top_colors_hsv execution time: 0.12878799438476562 seconds\n",
      "Top colors: [array([219, 229, 234], dtype=uint8), array([77, 88, 96], dtype=uint8), array([17, 28, 37], dtype=uint8), array([147, 157, 165], dtype=uint8)]\n",
      "Top counts: [832 542 123 663]\n"
     ]
    },
    {
     "name": "stderr",
     "output_type": "stream",
     "text": []
    },
    {
     "name": "stdout",
     "output_type": "stream",
     "text": [
      "find_top_colors_hsv execution time: 0.09360504150390625 seconds\n",
      "Top colors: [array([ 97, 119, 126], dtype=uint8), array([204, 218, 216], dtype=uint8), array([44, 58, 62], dtype=uint8), array([11, 31, 35], dtype=uint8)]\n",
      "Top counts: [435 405 325 131]\n",
      "find_top_colors_hsv execution time: 0.1410999298095703 seconds\n",
      "Top colors: [array([ 7, 14, 24], dtype=uint8), array([59, 68, 76], dtype=uint8), array([223, 229, 232], dtype=uint8), array([129, 137, 141], dtype=uint8)]\n",
      "Top counts: [ 57 307 210 201]\n"
     ]
    },
    {
     "name": "stderr",
     "output_type": "stream",
     "text": []
    },
    {
     "name": "stdout",
     "output_type": "stream",
     "text": [
      "find_top_colors_hsv execution time: 0.09873485565185547 seconds\n",
      "Top colors: [array([200, 215, 212], dtype=uint8), array([41, 57, 56], dtype=uint8), array([ 86, 113, 120], dtype=uint8), array([ 5, 27, 22], dtype=uint8)]\n",
      "Top counts: [652 555 816 177]\n",
      "find_top_colors_hsv execution time: 0.09740304946899414 seconds\n",
      "Top colors: [array([58, 80, 96], dtype=uint8), array([211, 223, 227], dtype=uint8), array([48, 56, 58], dtype=uint8), array([132, 142, 144], dtype=uint8)]\n",
      "Top counts: [ 585 1579  707 1033]\n"
     ]
    },
    {
     "name": "stderr",
     "output_type": "stream",
     "text": []
    },
    {
     "name": "stdout",
     "output_type": "stream",
     "text": [
      "find_top_colors_hsv execution time: 0.09911704063415527 seconds\n",
      "Top colors: [array([ 95, 107, 107], dtype=uint8), array([207, 226, 238], dtype=uint8), array([55, 74, 87], dtype=uint8), array([155, 168, 174], dtype=uint8)]\n",
      "Top counts: [ 694 1367 1039  833]\n",
      "find_top_colors_hsv execution time: 0.12927699089050293 seconds\n",
      "Top colors: [array([231, 236, 241], dtype=uint8), array([75, 83, 87], dtype=uint8), array([159, 161, 172], dtype=uint8), array([156, 154, 150], dtype=uint8)]\n",
      "Top counts: [2277  876  662   89]\n"
     ]
    },
    {
     "name": "stderr",
     "output_type": "stream",
     "text": []
    },
    {
     "name": "stdout",
     "output_type": "stream",
     "text": [
      "find_top_colors_hsv execution time: 0.0768587589263916 seconds\n",
      "Top colors: [array([73, 77, 68], dtype=uint8), array([ 2, 15,  7], dtype=uint8), array([34, 44, 50], dtype=uint8), array([173, 183, 174], dtype=uint8)]\n",
      "Top counts: [346  76 274 460]\n",
      "find_top_colors_hsv execution time: 0.11872005462646484 seconds\n",
      "Top colors: [array([123, 142, 154], dtype=uint8), array([ 5, 12, 24], dtype=uint8), array([48, 57, 64], dtype=uint8), array([210, 221, 228], dtype=uint8)]\n",
      "Top counts: [1003  133  549 1703]\n"
     ]
    },
    {
     "name": "stderr",
     "output_type": "stream",
     "text": []
    },
    {
     "name": "stdout",
     "output_type": "stream",
     "text": [
      "find_top_colors_hsv execution time: 0.07543587684631348 seconds\n",
      "Top colors: [array([192, 199, 206], dtype=uint8), array([127, 126, 105], dtype=uint8), array([ 85,  89, 100], dtype=uint8), array([156, 163, 167], dtype=uint8)]\n",
      "Top counts: [1081 1405  521  893]\n",
      "find_top_colors_hsv execution time: 0.05608820915222168 seconds\n",
      "Top colors: [array([211, 215, 219], dtype=uint8), array([51, 57, 61], dtype=uint8), array([135, 139, 143], dtype=uint8), array([ 3,  7, 11], dtype=uint8)]\n",
      "Top counts: [113  89 112  22]\n",
      "find_top_colors_hsv execution time: 0.09933972358703613 seconds\n",
      "Top colors: [array([127, 140, 151], dtype=uint8), array([207, 220, 227], dtype=uint8), array([62, 76, 85], dtype=uint8), array([11, 26, 35], dtype=uint8)]\n",
      "Top counts: [879 990 595 128]\n"
     ]
    },
    {
     "name": "stderr",
     "output_type": "stream",
     "text": []
    },
    {
     "name": "stdout",
     "output_type": "stream",
     "text": [
      "find_top_colors_hsv execution time: 0.07774472236633301 seconds\n",
      "Top colors: [array([158, 164, 156], dtype=uint8), array([64, 65, 71], dtype=uint8), array([ 63,  86, 101], dtype=uint8), array([76, 72, 64], dtype=uint8)]\n",
      "Top counts: [1751  762  413 1001]\n",
      "find_top_colors_hsv execution time: 0.1318361759185791 seconds\n",
      "Top colors: [array([225, 235, 236], dtype=uint8), array([ 88, 103, 112], dtype=uint8), array([162, 171, 175], dtype=uint8), array([52, 60, 73], dtype=uint8)]\n",
      "Top counts: [1559  951  516  964]\n"
     ]
    },
    {
     "name": "stderr",
     "output_type": "stream",
     "text": []
    },
    {
     "name": "stdout",
     "output_type": "stream",
     "text": [
      "find_top_colors_hsv execution time: 0.2178058624267578 seconds\n",
      "Top colors: [array([112, 115, 105], dtype=uint8), array([172, 184, 191], dtype=uint8), array([103, 115, 124], dtype=uint8), array([53, 62, 68], dtype=uint8)]\n",
      "Top counts: [ 506 1058 1441  937]\n",
      "find_top_colors_hsv execution time: 0.07038307189941406 seconds\n",
      "Top colors: [array([42, 48, 51], dtype=uint8), array([201, 207, 213], dtype=uint8), array([ 5, 12, 19], dtype=uint8), array([101, 108, 112], dtype=uint8)]\n",
      "Top counts: [586 252  88 482]\n",
      "find_top_colors_hsv execution time: 0.0890960693359375 seconds\n",
      "Top colors: [array([217, 226, 234], dtype=uint8), array([58, 64, 77], dtype=uint8), array([ 5,  9, 23], dtype=uint8), array([144, 155, 160], dtype=uint8)]\n",
      "Top counts: [1681  793  110  846]\n"
     ]
    },
    {
     "name": "stderr",
     "output_type": "stream",
     "text": []
    },
    {
     "name": "stdout",
     "output_type": "stream",
     "text": [
      "find_top_colors_hsv execution time: 0.0974268913269043 seconds\n",
      "Top colors: [array([126, 139, 147], dtype=uint8), array([20, 32, 43], dtype=uint8), array([214, 227, 237], dtype=uint8), array([59, 72, 85], dtype=uint8)]\n",
      "Top counts: [ 575  284 1791 1318]\n",
      "find_top_colors_hsv execution time: 0.09508085250854492 seconds\n",
      "Top colors: [array([211, 216, 222], dtype=uint8), array([40, 45, 52], dtype=uint8), array([ 3,  7, 13], dtype=uint8), array([130, 135, 141], dtype=uint8)]\n",
      "Top counts: [340 311  44 425]\n"
     ]
    },
    {
     "name": "stderr",
     "output_type": "stream",
     "text": []
    },
    {
     "name": "stdout",
     "output_type": "stream",
     "text": [
      "find_top_colors_hsv execution time: 0.10518717765808105 seconds\n",
      "Top colors: [array([13, 27, 32], dtype=uint8), array([201, 216, 219], dtype=uint8), array([49, 63, 71], dtype=uint8), array([ 96, 109, 105], dtype=uint8)]\n",
      "Top counts: [ 309 1826  995  806]\n",
      "find_top_colors_hsv execution time: 0.1119990348815918 seconds\n",
      "Top colors: [array([148, 156, 159], dtype=uint8), array([ 7, 15, 25], dtype=uint8), array([226, 233, 239], dtype=uint8), array([55, 64, 73], dtype=uint8)]\n",
      "Top counts: [516 168 766 950]\n"
     ]
    },
    {
     "name": "stderr",
     "output_type": "stream",
     "text": []
    },
    {
     "name": "stdout",
     "output_type": "stream",
     "text": [
      "find_top_colors_hsv execution time: 0.10486912727355957 seconds\n",
      "Top colors: [array([ 76,  93, 104], dtype=uint8), array([186, 197, 193], dtype=uint8), array([35, 48, 49], dtype=uint8), array([114, 121, 119], dtype=uint8)]\n",
      "Top counts: [1004  945  773 1220]\n",
      "find_top_colors_hsv execution time: 0.07567310333251953 seconds\n",
      "Top colors: [array([62, 71, 72], dtype=uint8), array([137, 148, 147], dtype=uint8), array([206, 219, 223], dtype=uint8), array([45, 60, 72], dtype=uint8)]\n",
      "Top counts: [1013 1121 1135  651]\n"
     ]
    },
    {
     "name": "stderr",
     "output_type": "stream",
     "text": []
    },
    {
     "name": "stdout",
     "output_type": "stream",
     "text": [
      "find_top_colors_hsv execution time: 0.11328125 seconds\n",
      "Top colors: [array([194, 207, 211], dtype=uint8), array([56, 68, 72], dtype=uint8), array([120, 133, 141], dtype=uint8), array([130, 131, 113], dtype=uint8)]\n",
      "Top counts: [1221  943 1423  378]\n",
      "find_top_colors_hsv execution time: 0.06592512130737305 seconds\n",
      "Top colors: [array([54, 63, 75], dtype=uint8), array([141, 153, 157], dtype=uint8), array([ 8, 16, 27], dtype=uint8), array([214, 226, 236], dtype=uint8)]\n",
      "Top counts: [496 342 134 536]\n",
      "find_top_colors_hsv execution time: 0.09485077857971191 seconds\n",
      "Top colors: [array([44, 59, 67], dtype=uint8), array([187, 208, 216], dtype=uint8), array([106, 123, 123], dtype=uint8), array([16, 30, 42], dtype=uint8)]\n",
      "Top counts: [1134 1457  919  412]\n"
     ]
    },
    {
     "name": "stderr",
     "output_type": "stream",
     "text": []
    },
    {
     "name": "stdout",
     "output_type": "stream",
     "text": [
      "find_top_colors_hsv execution time: 0.1811070442199707 seconds\n",
      "Top colors: [array([201, 211, 206], dtype=uint8), array([35, 51, 48], dtype=uint8), array([ 85, 106, 113], dtype=uint8), array([ 3, 17, 12], dtype=uint8)]\n",
      "Top counts: [1411  456  897  140]\n",
      "find_top_colors_hsv execution time: 0.09722113609313965 seconds\n",
      "Top colors: [array([ 66,  91, 108], dtype=uint8), array([140, 156, 155], dtype=uint8), array([49, 60, 58], dtype=uint8), array([221, 234, 235], dtype=uint8)]\n",
      "Top counts: [1053  942  569 1396]\n"
     ]
    },
    {
     "name": "stderr",
     "output_type": "stream",
     "text": []
    },
    {
     "name": "stdout",
     "output_type": "stream",
     "text": [
      "find_top_colors_hsv execution time: 0.09859395027160645 seconds\n",
      "Top colors: [array([66, 76, 83], dtype=uint8), array([231, 241, 244], dtype=uint8), array([133, 144, 151], dtype=uint8), array([18, 29, 37], dtype=uint8)]\n",
      "Top counts: [366 349 212  59]\n",
      "find_top_colors_hsv execution time: 0.07719922065734863 seconds\n",
      "Top colors: [array([73, 76, 97], dtype=uint8), array([217, 231, 237], dtype=uint8), array([153, 165, 174], dtype=uint8), array([168, 168, 164], dtype=uint8)]\n",
      "Top counts: [1320 1612  886  134]\n",
      "find_top_colors_hsv execution time: 0.08738899230957031 seconds\n",
      "Top colors: [array([63, 83, 98], dtype=uint8), array([207, 215, 227], dtype=uint8), array([153, 161, 174], dtype=uint8), array([82, 83, 96], dtype=uint8)]\n",
      "Top counts: [1027 1632  800  501]\n"
     ]
    },
    {
     "name": "stderr",
     "output_type": "stream",
     "text": []
    },
    {
     "name": "stdout",
     "output_type": "stream",
     "text": [
      "find_top_colors_hsv execution time: 0.0540158748626709 seconds\n",
      "Top colors: [array([218, 226, 232], dtype=uint8), array([46, 54, 67], dtype=uint8), array([116, 116, 129], dtype=uint8), array([133, 131, 131], dtype=uint8)]\n",
      "Top counts: [366 235 353  38]\n",
      "find_top_colors_hsv execution time: 0.10135293006896973 seconds\n",
      "Top colors: [array([105, 117, 129], dtype=uint8), array([239, 245, 248], dtype=uint8), array([57, 65, 75], dtype=uint8), array([168, 176, 185], dtype=uint8)]\n",
      "Top counts: [ 767 1576 1055  562]\n",
      "find_top_colors_hsv execution time: 0.07351088523864746 seconds\n",
      "Top colors: [array([47, 48, 60], dtype=uint8), array([168, 178, 167], dtype=uint8), array([73, 75, 64], dtype=uint8), array([ 2, 10,  9], dtype=uint8)]\n",
      "Top counts: [408 422 273  49]\n"
     ]
    },
    {
     "name": "stderr",
     "output_type": "stream",
     "text": []
    },
    {
     "name": "stdout",
     "output_type": "stream",
     "text": [
      "find_top_colors_hsv execution time: 0.1079721450805664 seconds\n",
      "Top colors: [array([48, 52, 57], dtype=uint8), array([207, 216, 223], dtype=uint8), array([123, 139, 149], dtype=uint8), array([19, 27, 37], dtype=uint8)]\n",
      "Top counts: [ 765 1825 1100  232]\n",
      "find_top_colors_hsv execution time: 0.0677037239074707 seconds\n",
      "Top colors: [array([133, 152, 169], dtype=uint8), array([227, 237, 243], dtype=uint8), array([70, 78, 92], dtype=uint8), array([18, 27, 42], dtype=uint8)]\n",
      "Top counts: [ 987 2172  414  147]\n",
      "find_top_colors_hsv execution time: 0.060723066329956055 seconds\n",
      "Top colors: [array([ 5, 14, 25], dtype=uint8), array([229, 238, 242], dtype=uint8), array([55, 66, 77], dtype=uint8), array([137, 145, 153], dtype=uint8)]\n",
      "Top counts: [189 991 908 544]\n"
     ]
    },
    {
     "name": "stderr",
     "output_type": "stream",
     "text": []
    },
    {
     "name": "stdout",
     "output_type": "stream",
     "text": [
      "find_top_colors_hsv execution time: 0.10170507431030273 seconds\n",
      "Top colors: [array([87, 96, 91], dtype=uint8), array([173, 185, 179], dtype=uint8), array([1, 9, 3], dtype=uint8), array([30, 39, 44], dtype=uint8)]\n",
      "Top counts: [840 764  88 564]\n",
      "find_top_colors_hsv execution time: 0.08869719505310059 seconds\n",
      "Top colors: [array([160, 166, 176], dtype=uint8), array([223, 230, 236], dtype=uint8), array([22, 24, 45], dtype=uint8), array([ 76,  84, 100], dtype=uint8)]\n",
      "Top counts: [ 730 1852  168  990]\n",
      "find_top_colors_hsv execution time: 0.07382702827453613 seconds\n",
      "Top colors: [array([ 3, 11, 21], dtype=uint8), array([ 90, 103, 114], dtype=uint8), array([30, 41, 50], dtype=uint8), array([177, 188, 197], dtype=uint8)]\n",
      "Top counts: [ 92 290 200 230]\n"
     ]
    },
    {
     "name": "stderr",
     "output_type": "stream",
     "text": []
    },
    {
     "name": "stdout",
     "output_type": "stream",
     "text": [
      "find_top_colors_hsv execution time: 0.13754868507385254 seconds\n",
      "Top colors: [array([127, 134, 141], dtype=uint8), array([224, 231, 236], dtype=uint8), array([ 5, 11, 23], dtype=uint8), array([46, 52, 64], dtype=uint8)]\n",
      "Top counts: [294 342  78 336]\n",
      "find_top_colors_hsv execution time: 0.112091064453125 seconds\n",
      "Top colors: [array([23, 28, 36], dtype=uint8), array([126, 146, 152], dtype=uint8), array([205, 215, 222], dtype=uint8), array([54, 62, 61], dtype=uint8)]\n",
      "Top counts: [ 393 1121 1384 1022]\n"
     ]
    },
    {
     "name": "stderr",
     "output_type": "stream",
     "text": [
      "100%|██████████| 50/50 [00:05<00:00,  9.02it/s]\n",
      " 89%|████████▉ | 8/9 [00:29<00:04,  4.24s/it]"
     ]
    },
    {
     "name": "stdout",
     "output_type": "stream",
     "text": [
      "find_top_colors_hsv execution time: 0.10419893264770508 seconds\n",
      "Top colors: [array([214, 234, 242], dtype=uint8), array([114, 130, 145], dtype=uint8), array([168, 185, 189], dtype=uint8), array([67, 71, 94], dtype=uint8)]\n",
      "Top counts: [ 809  873 1286  952]\n",
      "find_top_colors_hsv execution time: 0.062354326248168945 seconds\n",
      "Top colors: [array([209, 226, 236], dtype=uint8), array([61, 76, 87], dtype=uint8), array([25, 38, 50], dtype=uint8), array([134, 145, 147], dtype=uint8)]\n",
      "Top counts: [1746 1181  223  819]\n"
     ]
    },
    {
     "name": "stderr",
     "output_type": "stream",
     "text": []
    },
    {
     "name": "stdout",
     "output_type": "stream",
     "text": [
      "find_top_colors_hsv execution time: 0.10178089141845703 seconds\n",
      "Top colors: [array([112, 113, 125], dtype=uint8), array([40, 40, 45], dtype=uint8), array([45, 44, 43], dtype=uint8), array([36, 40, 54], dtype=uint8)]\n",
      "Top counts: [ 655 2304  410  575]\n"
     ]
    },
    {
     "name": "stderr",
     "output_type": "stream",
     "text": []
    },
    {
     "name": "stdout",
     "output_type": "stream",
     "text": [
      "find_top_colors_hsv execution time: 0.09814000129699707 seconds\n",
      "Top colors: [array([155, 154, 164], dtype=uint8), array([50, 52, 59], dtype=uint8), array([182, 181, 179], dtype=uint8), array([49, 25, 52], dtype=uint8)]\n",
      "Top counts: [ 325 1670  229  240]\n"
     ]
    },
    {
     "name": "stderr",
     "output_type": "stream",
     "text": []
    },
    {
     "name": "stdout",
     "output_type": "stream",
     "text": [
      "find_top_colors_hsv execution time: 0.14313197135925293 seconds\n",
      "Top colors: [array([182, 187, 189], dtype=uint8), array([39, 42, 49], dtype=uint8), array([13, 18, 26], dtype=uint8), array([86, 90, 95], dtype=uint8)]\n",
      "Top counts: [ 238 2074  261  963]\n",
      "find_top_colors_hsv execution time: 0.06376504898071289 seconds\n",
      "Top colors: [array([32, 38, 47], dtype=uint8), array([173, 179, 187], dtype=uint8), array([ 1,  4, 13], dtype=uint8), array([82, 87, 96], dtype=uint8)]\n",
      "Top counts: [310 132  56 327]\n"
     ]
    },
    {
     "name": "stderr",
     "output_type": "stream",
     "text": []
    },
    {
     "name": "stdout",
     "output_type": "stream",
     "text": [
      "find_top_colors_hsv execution time: 0.30883002281188965 seconds\n",
      "Top colors: [array([52, 57, 65], dtype=uint8), array([205, 211, 219], dtype=uint8), array([109, 115, 127], dtype=uint8), array([10, 15, 26], dtype=uint8)]\n",
      "Top counts: [1781  492 1063  192]\n"
     ]
    },
    {
     "name": "stderr",
     "output_type": "stream",
     "text": []
    },
    {
     "name": "stdout",
     "output_type": "stream",
     "text": [
      "find_top_colors_hsv execution time: 0.4042670726776123 seconds\n",
      "Top colors: [array([125, 127, 123], dtype=uint8), array([66, 72, 92], dtype=uint8), array([156, 149, 162], dtype=uint8), array([60, 56, 63], dtype=uint8)]\n",
      "Top counts: [ 69 354 249 448]\n"
     ]
    },
    {
     "name": "stderr",
     "output_type": "stream",
     "text": []
    },
    {
     "name": "stdout",
     "output_type": "stream",
     "text": [
      "find_top_colors_hsv execution time: 0.21233892440795898 seconds\n",
      "Top colors: [array([76, 83, 88], dtype=uint8), array([15, 21, 29], dtype=uint8), array([136, 144, 145], dtype=uint8), array([41, 47, 55], dtype=uint8)]\n",
      "Top counts: [1338  298 1043 1222]\n",
      "find_top_colors_hsv execution time: 0.1347208023071289 seconds\n",
      "Top colors: [array([117, 123, 124], dtype=uint8), array([37, 41, 50], dtype=uint8), array([70, 69, 66], dtype=uint8), array([61, 64, 68], dtype=uint8)]\n",
      "Top counts: [ 413 1479  201 1807]\n"
     ]
    },
    {
     "name": "stderr",
     "output_type": "stream",
     "text": []
    },
    {
     "name": "stdout",
     "output_type": "stream",
     "text": [
      "find_top_colors_hsv execution time: 0.10252690315246582 seconds\n",
      "Top colors: [array([ 3,  6, 11], dtype=uint8), array([33, 38, 42], dtype=uint8), array([190, 195, 199], dtype=uint8), array([ 96, 100, 104], dtype=uint8)]\n",
      "Top counts: [ 88 625 231 428]\n",
      "find_top_colors_hsv execution time: 0.0557708740234375 seconds\n",
      "Top colors: [array([34, 27, 36], dtype=uint8), array([161, 163, 165], dtype=uint8), array([45, 47, 50], dtype=uint8), array([2, 1, 6], dtype=uint8)]\n",
      "Top counts: [117 101 245  17]\n",
      "find_top_colors_hsv execution time: 0.1069490909576416 seconds\n",
      "Top colors: [array([141, 156, 149], dtype=uint8), array([ 73,  88, 108], dtype=uint8), array([37, 49, 65], dtype=uint8), array([47, 52, 66], dtype=uint8)]\n",
      "Top counts: [ 246 1839  590 1290]\n"
     ]
    },
    {
     "name": "stderr",
     "output_type": "stream",
     "text": []
    },
    {
     "name": "stdout",
     "output_type": "stream",
     "text": [
      "find_top_colors_hsv execution time: 0.10036611557006836 seconds\n",
      "Top colors: [array([ 9, 12, 18], dtype=uint8), array([131, 133, 140], dtype=uint8), array([47, 46, 54], dtype=uint8), array([84, 82, 74], dtype=uint8)]\n",
      "Top counts: [147 490 870 165]\n",
      "find_top_colors_hsv execution time: 0.06823897361755371 seconds\n",
      "Top colors: [array([41, 45, 47], dtype=uint8), array([141, 144, 146], dtype=uint8), array([1, 4, 1], dtype=uint8), array([49, 46, 43], dtype=uint8)]\n",
      "Top counts: [669 213  31  79]\n",
      "find_top_colors_hsv execution time: 0.10366177558898926 seconds\n",
      "Top colors: [array([115, 114, 126], dtype=uint8), array([80, 73, 69], dtype=uint8), array([ 4, 13,  4], dtype=uint8), array([43, 39, 49], dtype=uint8)]\n",
      "Top counts: [ 876 1295  173 1440]\n"
     ]
    },
    {
     "name": "stderr",
     "output_type": "stream",
     "text": []
    },
    {
     "name": "stdout",
     "output_type": "stream",
     "text": [
      "find_top_colors_hsv execution time: 0.08038091659545898 seconds\n",
      "Top colors: [array([146, 166, 157], dtype=uint8), array([68, 83, 98], dtype=uint8), array([56, 61, 66], dtype=uint8), array([100,  45,  64], dtype=uint8)]\n",
      "Top counts: [ 536 1536 1718  137]\n",
      "find_top_colors_hsv execution time: 0.16944503784179688 seconds\n",
      "Top colors: [array([ 94,  95, 102], dtype=uint8), array([45, 49, 57], dtype=uint8), array([177, 183, 190], dtype=uint8), array([90, 88, 85], dtype=uint8)]\n",
      "Top counts: [ 843 2119  722  276]\n"
     ]
    },
    {
     "name": "stderr",
     "output_type": "stream",
     "text": []
    },
    {
     "name": "stdout",
     "output_type": "stream",
     "text": [
      "find_top_colors_hsv execution time: 0.11839604377746582 seconds\n",
      "Top colors: [array([154, 156, 159], dtype=uint8), array([43, 44, 51], dtype=uint8), array([12, 17, 30], dtype=uint8), array([33, 31, 29], dtype=uint8)]\n",
      "Top counts: [206 860  86  69]\n"
     ]
    },
    {
     "name": "stderr",
     "output_type": "stream",
     "text": []
    },
    {
     "name": "stdout",
     "output_type": "stream",
     "text": [
      "find_top_colors_hsv execution time: 0.23601603507995605 seconds\n",
      "Top colors: [array([62, 62, 75], dtype=uint8), array([176, 184, 193], dtype=uint8), array([ 86, 100, 119], dtype=uint8), array([32, 33, 63], dtype=uint8)]\n",
      "Top counts: [1273  503 1552  624]\n",
      "find_top_colors_hsv execution time: 0.16552090644836426 seconds\n",
      "Top colors: [array([162, 163, 158], dtype=uint8), array([70, 71, 78], dtype=uint8), array([18, 31, 39], dtype=uint8), array([60, 60, 56], dtype=uint8)]\n",
      "Top counts: [1399 1673  330  474]\n"
     ]
    },
    {
     "name": "stderr",
     "output_type": "stream",
     "text": []
    },
    {
     "name": "stdout",
     "output_type": "stream",
     "text": [
      "find_top_colors_hsv execution time: 0.08678197860717773 seconds\n",
      "Top colors: [array([ 82,  93, 108], dtype=uint8), array([45, 56, 69], dtype=uint8), array([ 6, 16, 29], dtype=uint8), array([147, 159, 171], dtype=uint8)]\n",
      "Top counts: [523 726 123 188]\n",
      "find_top_colors_hsv execution time: 0.08325815200805664 seconds\n",
      "Top colors: [array([59, 75, 94], dtype=uint8), array([47, 55, 64], dtype=uint8), array([131, 142, 145], dtype=uint8), array([25, 35, 49], dtype=uint8)]\n",
      "Top counts: [1836  954  581  535]\n",
      "find_top_colors_hsv execution time: 0.039073944091796875 seconds\n",
      "Top colors: [array([191, 192, 195], dtype=uint8), array([59, 59, 66], dtype=uint8), array([0, 1, 6], dtype=uint8), array([95, 95, 95], dtype=uint8)]\n",
      "Top counts: [ 97 433  21  79]\n"
     ]
    },
    {
     "name": "stderr",
     "output_type": "stream",
     "text": []
    },
    {
     "name": "stdout",
     "output_type": "stream",
     "text": [
      "find_top_colors_hsv execution time: 0.11875605583190918 seconds\n",
      "Top colors: [array([47, 60, 72], dtype=uint8), array([49, 55, 61], dtype=uint8), array([95, 97, 86], dtype=uint8), array([27, 38, 46], dtype=uint8)]\n",
      "Top counts: [1663 1194  198  872]\n",
      "find_top_colors_hsv execution time: 0.07210397720336914 seconds\n",
      "Top colors: [array([ 70,  85, 102], dtype=uint8), array([158, 171, 164], dtype=uint8), array([59, 62, 69], dtype=uint8), array([90, 48, 65], dtype=uint8)]\n",
      "Top counts: [1790  505 1469  156]\n",
      "find_top_colors_hsv execution time: 0.06960082054138184 seconds\n",
      "Top colors: [array([33, 36, 42], dtype=uint8), array([154, 157, 162], dtype=uint8), array([ 6, 10, 15], dtype=uint8), array([72, 76, 79], dtype=uint8)]\n",
      "Top counts: [535  98  52 303]\n"
     ]
    },
    {
     "name": "stderr",
     "output_type": "stream",
     "text": []
    },
    {
     "name": "stdout",
     "output_type": "stream",
     "text": [
      "find_top_colors_hsv execution time: 0.12851619720458984 seconds\n",
      "Top colors: [array([44, 50, 56], dtype=uint8), array([36, 49, 59], dtype=uint8), array([71, 68, 64], dtype=uint8), array([74, 87, 98], dtype=uint8)]\n",
      "Top counts: [1380 1372  127 1081]\n",
      "find_top_colors_hsv execution time: 0.09598708152770996 seconds\n",
      "Top colors: [array([ 95,  97, 101], dtype=uint8), array([40, 40, 45], dtype=uint8), array([55, 48, 46], dtype=uint8), array([ 3,  8, 11], dtype=uint8)]\n",
      "Top counts: [ 739 2601   84   26]\n",
      "find_top_colors_hsv execution time: 0.06408095359802246 seconds\n",
      "Top colors: [array([163, 168, 175], dtype=uint8), array([19, 25, 32], dtype=uint8), array([65, 72, 78], dtype=uint8), array([ 0,  3, 10], dtype=uint8)]\n",
      "Top counts: [184 202 256  94]\n"
     ]
    },
    {
     "name": "stderr",
     "output_type": "stream",
     "text": []
    },
    {
     "name": "stdout",
     "output_type": "stream",
     "text": [
      "find_top_colors_hsv execution time: 0.1573619842529297 seconds\n",
      "Top colors: [array([52, 58, 67], dtype=uint8), array([ 68,  82, 101], dtype=uint8), array([26, 36, 50], dtype=uint8), array([120, 129, 140], dtype=uint8)]\n",
      "Top counts: [ 946 1767  536  671]\n",
      "find_top_colors_hsv execution time: 0.17197728157043457 seconds\n",
      "Top colors: [array([136, 145, 153], dtype=uint8), array([62, 78, 96], dtype=uint8), array([35, 46, 56], dtype=uint8), array([67, 74, 81], dtype=uint8)]\n",
      "Top counts: [ 329 1535 1020 1076]\n"
     ]
    },
    {
     "name": "stderr",
     "output_type": "stream",
     "text": []
    },
    {
     "name": "stdout",
     "output_type": "stream",
     "text": [
      "find_top_colors_hsv execution time: 0.05559515953063965 seconds\n",
      "Top colors: [array([95, 94, 99], dtype=uint8), array([3, 1, 6], dtype=uint8), array([210, 208, 212], dtype=uint8), array([35, 32, 38], dtype=uint8)]\n",
      "Top counts: [222  34  82 430]\n",
      "find_top_colors_hsv execution time: 0.1797189712524414 seconds\n",
      "Top colors: [array([75, 79, 86], dtype=uint8), array([35, 39, 46], dtype=uint8), array([140, 145, 151], dtype=uint8), array([26, 32, 44], dtype=uint8)]\n",
      "Top counts: [ 851 1413  576 1120]\n"
     ]
    },
    {
     "name": "stderr",
     "output_type": "stream",
     "text": []
    },
    {
     "name": "stdout",
     "output_type": "stream",
     "text": [
      "find_top_colors_hsv execution time: 0.10784697532653809 seconds\n",
      "Top colors: [array([33, 34, 37], dtype=uint8), array([187, 189, 191], dtype=uint8), array([0, 1, 3], dtype=uint8), array([94, 96, 98], dtype=uint8)]\n",
      "Top counts: [497 207  65 456]\n",
      "find_top_colors_hsv execution time: 0.10984396934509277 seconds\n",
      "Top colors: [array([89, 92, 99], dtype=uint8), array([156, 154, 149], dtype=uint8), array([44, 51, 60], dtype=uint8), array([171, 174, 180], dtype=uint8)]\n",
      "Top counts: [1341  379 1644  536]\n",
      "find_top_colors_hsv execution time: 0.061347007751464844 seconds\n",
      "Top colors: [array([12, 17, 25], dtype=uint8), array([125, 130, 128], dtype=uint8), array([51, 55, 57], dtype=uint8), array([192, 198, 202], dtype=uint8)]\n",
      "Top counts: [ 88 246 372  94]\n"
     ]
    },
    {
     "name": "stderr",
     "output_type": "stream",
     "text": []
    },
    {
     "name": "stdout",
     "output_type": "stream",
     "text": [
      "find_top_colors_hsv execution time: 0.10689425468444824 seconds\n",
      "Top colors: [array([32, 34, 42], dtype=uint8), array([67, 71, 75], dtype=uint8), array([161, 165, 169], dtype=uint8), array([ 4,  5, 14], dtype=uint8)]\n",
      "Top counts: [721 577 244  90]\n",
      "find_top_colors_hsv execution time: 0.08632421493530273 seconds\n",
      "Top colors: [array([73, 75, 81], dtype=uint8), array([157, 161, 165], dtype=uint8), array([32, 35, 41], dtype=uint8), array([ 3,  5, 12], dtype=uint8)]\n",
      "Top counts: [511 312 390  47]\n",
      "find_top_colors_hsv execution time: 0.04768729209899902 seconds\n",
      "Top colors: [array([ 5,  7, 13], dtype=uint8), array([39, 39, 45], dtype=uint8), array([153, 157, 158], dtype=uint8), array([46, 45, 44], dtype=uint8)]\n",
      "Top counts: [ 57 539 205 119]\n"
     ]
    },
    {
     "name": "stderr",
     "output_type": "stream",
     "text": [
      "100%|██████████| 40/40 [00:05<00:00,  7.89it/s]\n",
      "100%|██████████| 9/9 [00:34<00:00,  3.83s/it]"
     ]
    },
    {
     "name": "stdout",
     "output_type": "stream",
     "text": [
      "find_top_colors_hsv execution time: 0.07412409782409668 seconds\n",
      "Top colors: [array([ 98, 105, 107], dtype=uint8), array([31, 40, 42], dtype=uint8), array([193, 200, 201], dtype=uint8), array([1, 6, 9], dtype=uint8)]\n",
      "Top counts: [567 459 285 115]\n",
      "find_top_colors_hsv execution time: 0.07572197914123535 seconds\n",
      "Top colors: [array([16, 20, 23], dtype=uint8), array([53, 57, 59], dtype=uint8), array([167, 170, 172], dtype=uint8), array([0, 3, 5], dtype=uint8)]\n",
      "Top counts: [248 640 335  97]\n"
     ]
    },
    {
     "name": "stderr",
     "output_type": "stream",
     "text": [
      "\n"
     ]
    }
   ],
   "source": [
    "# Directory to browse through\n",
    "from tqdm import tqdm\n",
    "base_directory = 'ColoursRJ'\n",
    "\n",
    "# Iterate over each color directory\n",
    "for color in tqdm(os.listdir(base_directory)):\n",
    "    color_path = os.path.join(base_directory, color)\n",
    "    \n",
    "    if os.path.isdir(color_path):\n",
    "        # Iterate over each image in the color directory\n",
    "        for image_name in tqdm(os.listdir(color_path)):\n",
    "            image_path = os.path.join(color_path, image_name)\n",
    "            \n",
    "            if os.path.isfile(image_path):\n",
    "                try:\n",
    "                    # Process the image\n",
    "                    cluster_size = 4\n",
    "                    cropped_image, segmented_image, top_colors_hsv, labels, cluster_centers = find_top_colors_hsv(image_path, k=cluster_size)\n",
    "                    top_colors_rgb = [cv2.cvtColor(np.uint8([[color]]), cv2.COLOR_HSV2RGB)[0][0] for color in top_colors_hsv]\n",
    "                    top_counts = np.unique(labels, return_counts=True)[1]\n",
    "\n",
    "                    # print(f'Processing image: {image_path}')\n",
    "                    print(f'Top colors: {top_colors_rgb}')\n",
    "                    print(f'Top counts: {top_counts}')\n",
    "\n",
    "                    # Plot the top colors\n",
    "                    # plot_colors(top_colors_rgb, top_counts, cluster_size)\n",
    "\n",
    "                    # Plot the segmented image\n",
    "                    # plot_segmented_image(segmented_image)\n",
    "\n",
    "                    # Prepare to save results\n",
    "                    base_path = f'labeling/{color}/{os.path.splitext(image_name)[0]}'\n",
    "                    create_directory(base_path)\n",
    "\n",
    "                    # Save the original image\n",
    "                    shutil.copy(image_path, os.path.join(base_path, 'original.png'))\n",
    "\n",
    "                    # Save each cluster segment\n",
    "                    for i in range(cluster_size):\n",
    "                        cluster_mask = (labels == i).reshape(segmented_image.shape[:2])\n",
    "                        cluster_image = np.zeros_like(cropped_image)\n",
    "                        cluster_image[cluster_mask] = cropped_image[cluster_mask]\n",
    "                        cv2.imwrite(os.path.join(base_path, f'color_center_{i+1}.png'), cluster_image)\n",
    "\n",
    "                    # Save the color centers JSON\n",
    "                    save_color_centers_json(top_colors_hsv, top_counts, os.path.join(base_path, 'color_centers.json'))\n",
    "                \n",
    "                except Exception as e:\n",
    "                    print(f\"Failed to process image {image_path}: {e}\")"
   ]
  },
  {
   "cell_type": "code",
   "execution_count": null,
   "metadata": {},
   "outputs": [],
   "source": []
  }
 ],
 "metadata": {
  "kernelspec": {
   "display_name": "rl",
   "language": "python",
   "name": "python3"
  },
  "language_info": {
   "codemirror_mode": {
    "name": "ipython",
    "version": 3
   },
   "file_extension": ".py",
   "mimetype": "text/x-python",
   "name": "python",
   "nbconvert_exporter": "python",
   "pygments_lexer": "ipython3",
   "version": "3.6.10"
  }
 },
 "nbformat": 4,
 "nbformat_minor": 2
}
