{
 "cells": [
  {
   "cell_type": "code",
   "execution_count": null,
   "metadata": {},
   "outputs": [],
   "source": [
    "'''\n",
    "1. we can check the which page we are on using page's URL, and then do the necessary step\n",
    "2. change the element_ids at necessary places\n",
    "3. input the captcha manually till test phase\n",
    "4. please provide urls at the blank space in below code\n",
    "5. run one-by-one to check if everything works fine\n",
    "'''"
   ]
  },
  {
   "cell_type": "code",
   "execution_count": 1,
   "metadata": {},
   "outputs": [
    {
     "data": {
      "text/plain": [
       "True"
      ]
     },
     "execution_count": 1,
     "metadata": {},
     "output_type": "execute_result"
    }
   ],
   "source": [
    "import time\n",
    "import pyautogui\n",
    "import easyocr\n",
    "import cv2\n",
    "import os\n",
    "from selenium import webdriver\n",
    "from selenium.webdriver.common.by import By\n",
    "from dotenv import load_dotenv\n",
    "from selenium.webdriver.support.ui import WebDriverWait\n",
    "from selenium.webdriver.support import expected_conditions as EC\n",
    "import re\n",
    "# Load environment variables (username, password, and receiver_id)\n",
    "load_dotenv()\n"
   ]
  },
  {
   "cell_type": "code",
   "execution_count": 2,
   "metadata": {},
   "outputs": [],
   "source": [
    "\n",
    "# Coordinates for captcha screenshot\n",
    "CAPTCHA_COORDS = (1321, 499, 1657, 577)  # (x1, y1, x2, y2)\n",
    "\n",
    "# Webpage details and credentials from environment variables\n",
    "URL = \"https://sso.rajasthan.gov.in/signin?encq=m0ZUFHLqc4t+0vQu27K7jl5cOBbodS7JFafFdflRFZs=\"\n",
    "USERNAME = os.getenv(\"username\")\n",
    "PASSWORD = os.getenv(\"password\")\n",
    "RECEIVER_IDS = os.getenv(\"reciever_id\").split(\",\")  # Assuming receiver_id contains comma-separated values\n",
    "\n",
    "# Element IDs on the webpage\n",
    "USERNAME_FIELD_ID = \"cpBodyMain_cpBody_txt_Data1\"\n",
    "PASSWORD_FIELD_ID = \"cpBodyMain_cpBody_txt_Data2\"\n",
    "CAPTCHA_FIELD_ID = \"cpBodyMain_cpBody_ssoCaptcha_txtCaptcha\"\n",
    "SUBMIT_BUTTON_ID = \"cpBodyMain_cpBody_btn_Login\"\n",
    "\n",
    "# Path to save the screenshot\n",
    "CAPTCHA_IMAGE_PATH = 'D:/test/data/otp.png'\n",
    "\n",
    "# Initialize the Selenium WebDriver\n",
    "driver = webdriver.Chrome()\n",
    "driver.maximize_window()\n",
    "driver.get(URL)\n",
    "time.sleep(2)\n"
   ]
  },
  {
   "cell_type": "code",
   "execution_count": null,
   "metadata": {},
   "outputs": [],
   "source": [
    "USERNAME"
   ]
  },
  {
   "cell_type": "code",
   "execution_count": 3,
   "metadata": {},
   "outputs": [],
   "source": [
    "\n",
    "# Capture screenshot for captcha and save it\n",
    "def capture_screenshot(x1, y1, x2, y2, save_path):\n",
    "    width = x2 - x1\n",
    "    height = y2 - y1\n",
    "    screenshot = pyautogui.screenshot(region=(x1, y1, width, height))\n",
    "    screenshot.save(save_path)\n",
    "    print(f\"Screenshot saved at {save_path}\")\n"
   ]
  },
  {
   "cell_type": "code",
   "execution_count": 4,
   "metadata": {},
   "outputs": [],
   "source": [
    "def read_captcha(image_path=\"C:/Users/DELL/Downloads/rajkaj/rajkaj/data/otp.png\"):\n",
    "    img = cv2.imread(image_path)\n",
    "    img = cv2.resize(img, (323, 93))\n",
    "    reader = easyocr.Reader(['en'])\n",
    "    result = reader.readtext(img, threshold=0.2)\n",
    "    captcha_p = ''.join([line[1] for line in result])\n",
    "    captcha_text = re.sub(r\"\\D\",\"\",captcha_p)\n",
    "    return captcha_text"
   ]
  },
  {
   "cell_type": "code",
   "execution_count": null,
   "metadata": {},
   "outputs": [],
   "source": [
    "CAPTCHA_COORDS = (1321, 499, 1657, 587)\n",
    "capture_screenshot(*CAPTCHA_COORDS,save_path=CAPTCHA_IMAGE_PATH)"
   ]
  },
  {
   "cell_type": "code",
   "execution_count": null,
   "metadata": {},
   "outputs": [],
   "source": [
    "read_captcha(\"D:/test/data/otp.png\")"
   ]
  },
  {
   "cell_type": "code",
   "execution_count": 5,
   "metadata": {},
   "outputs": [],
   "source": [
    "captcha = \"\"\n",
    "def get_captcha():\n",
    "    global captcha\n",
    "    while True:\n",
    "        capture_screenshot(*CAPTCHA_COORDS,save_path=CAPTCHA_IMAGE_PATH)\n",
    "        captcha = read_captcha(\"D:/test/data/otp.png\").replace(\" \",\"\")\n",
    "        print(captcha)\n",
    "        if len(captcha) == 6 and captcha.isdigit():\n",
    "            break\n",
    "        else:\n",
    "            driver.refresh()\n",
    "            time.sleep(1)\n"
   ]
  },
  {
   "cell_type": "code",
   "execution_count": null,
   "metadata": {},
   "outputs": [],
   "source": [
    "# login page :- https://sso.rajasthan.gov.in/signin?"
   ]
  },
  {
   "cell_type": "code",
   "execution_count": 6,
   "metadata": {},
   "outputs": [],
   "source": [
    "# Log in to the website using Selenium\n",
    "def login():\n",
    "    print(f\"Logging in with username: {USERNAME}\")\n",
    "    get_captcha()\n",
    "    initial_url = driver.current_url\n",
    "    driver.find_element(By.ID, USERNAME_FIELD_ID).clear()\n",
    "    driver.find_element(By.ID, USERNAME_FIELD_ID).send_keys(USERNAME)\n",
    "    driver.find_element(By.ID, PASSWORD_FIELD_ID).clear()\n",
    "    driver.find_element(By.ID, PASSWORD_FIELD_ID).send_keys(PASSWORD)\n",
    "    driver.find_element(By.ID, CAPTCHA_FIELD_ID).clear()\n",
    "    driver.find_element(By.ID, CAPTCHA_FIELD_ID).send_keys(captcha)"
   ]
  },
  {
   "cell_type": "code",
   "execution_count": 7,
   "metadata": {},
   "outputs": [
    {
     "name": "stderr",
     "output_type": "stream",
     "text": [
      "Neither CUDA nor MPS are available - defaulting to CPU. Note: This module is much faster with a GPU.\n"
     ]
    },
    {
     "name": "stdout",
     "output_type": "stream",
     "text": [
      "Logging in with username: ashokmeena88.doit\n",
      "Screenshot saved at D:/test/data/otp.png\n",
      "896385\n"
     ]
    }
   ],
   "source": [
    "login()"
   ]
  },
  {
   "cell_type": "code",
   "execution_count": 8,
   "metadata": {},
   "outputs": [],
   "source": [
    "driver.find_element(By.ID, SUBMIT_BUTTON_ID).click()"
   ]
  },
  {
   "cell_type": "code",
   "execution_count": 9,
   "metadata": {},
   "outputs": [],
   "source": [
    "if driver.current_url == \"https://sso.rajasthan.gov.in/signin?ru=EOFFICE\":\n",
    "    driver.find_element(By.ID, \"cpBodyMain_cpBody_cbx_newsession\").click()\n",
    "    driver.find_element(By.ID, \"cpBodyMain_cpBody_txt_Data2\").clear()\n",
    "    driver.find_element(By.ID, \"cpBodyMain_cpBody_txt_Data2\").send_keys(PASSWORD)"
   ]
  },
  {
   "cell_type": "code",
   "execution_count": 10,
   "metadata": {},
   "outputs": [],
   "source": [
    "driver.find_element(By.ID, \"cpBodyMain_cpBody_btn_Login\").click()"
   ]
  },
  {
   "cell_type": "code",
   "execution_count": 11,
   "metadata": {},
   "outputs": [],
   "source": [
    "if \"https://rajeoffice.rajasthan.gov.in/dualAuthentication.zul\" in driver.current_url:\n",
    "    driver.find_element(By.ID, \"j_password\").send_keys(\"112233\")\n",
    "else:\n",
    "    print(\"wrong url\")"
   ]
  },
  {
   "cell_type": "code",
   "execution_count": 12,
   "metadata": {},
   "outputs": [],
   "source": [
    "driver.find_element(By.ID, \"grad\").click()"
   ]
  },
  {
   "cell_type": "code",
   "execution_count": null,
   "metadata": {},
   "outputs": [],
   "source": [
    "if \"https://sso.rajasthan.gov.in/signin?\" in driver.current_url:\n",
    "    driver.refresh()"
   ]
  },
  {
   "cell_type": "code",
   "execution_count": 13,
   "metadata": {},
   "outputs": [],
   "source": [
    "driver.find_element(By.ID, \"zk_comp_322\").click()"
   ]
  },
  {
   "cell_type": "code",
   "execution_count": 14,
   "metadata": {},
   "outputs": [],
   "source": [
    "def navigate_to_table():\n",
    "    e_file_btn = driver.find_element(By.ID, \"zk_comp_405\")\n",
    "    e_file_btn.click()\n",
    "    time.sleep(2)  # Add a slight wait to allow the table to load\n",
    "    print(\"Navigated to file table.\")"
   ]
  },
  {
   "cell_type": "code",
   "execution_count": 15,
   "metadata": {},
   "outputs": [
    {
     "name": "stdout",
     "output_type": "stream",
     "text": [
      "Navigated to file table.\n"
     ]
    }
   ],
   "source": [
    "navigate_to_table()"
   ]
  },
  {
   "cell_type": "code",
   "execution_count": null,
   "metadata": {},
   "outputs": [],
   "source": [
    "\t\n",
    "# RJBR201304030433"
   ]
  },
  {
   "cell_type": "code",
   "execution_count": 19,
   "metadata": {},
   "outputs": [],
   "source": [
    "def select_file():\n",
    "    table_div = driver.find_element(By.ID,\"zk_comp_299-body\")\n",
    "    first_row = table_div.find_elements(By.CLASS_NAME, \"z-rows\")[0]\n",
    "    file = first_row.find_elements(By.CLASS_NAME, \"z-cell\")[0]\n",
    "    print(file.text)\n",
    "    file.click()\n"
   ]
  },
  {
   "cell_type": "code",
   "execution_count": 20,
   "metadata": {},
   "outputs": [
    {
     "name": "stdout",
     "output_type": "stream",
     "text": [
      "testdsc-12654\n"
     ]
    }
   ],
   "source": [
    "select_file()"
   ]
  },
  {
   "cell_type": "code",
   "execution_count": 21,
   "metadata": {},
   "outputs": [],
   "source": [
    "driver.find_element(By.ID,\"zk_comp_312-b\").click()"
   ]
  },
  {
   "cell_type": "code",
   "execution_count": null,
   "metadata": {},
   "outputs": [],
   "source": [
    "# Select a file from the table and send it\n",
    "def send_file():\n",
    "    for target_id in RECEIVER_IDS:\n",
    "        parent_div = p_el.find_element(By.ID,\"zk_comp_1086-body\")\n",
    "        tbody = parent_div.find_element(By.CLASS_NAME,\"z-rows\")\n",
    "        rows = tbody.find_elements(By.CLASS_NAME,\"z-row\")\n",
    "        for r in rows:\n",
    "            inner_row = r.find_elements(By.CLASS_NAME,\"z-row-inner\")\n",
    "            for i_r in inner_row:\n",
    "                if i_r.text == target_id:\n",
    "                    radio_btn =  r.find_element(By.XPATH,\".//input[@type='radio']\")\n",
    "                    radio_btn.click()\n",
    "                    print(radio_btn.text)"
   ]
  },
  {
   "cell_type": "code",
   "execution_count": 25,
   "metadata": {},
   "outputs": [
    {
     "ename": "NoSuchElementException",
     "evalue": "Message: no such element: Unable to locate element: {\"method\":\"css selector\",\"selector\":\"[id=\"z-window-modal-cm\"]\"}\n  (Session info: chrome=130.0.6723.92); For documentation on this error, please visit: https://www.selenium.dev/documentation/webdriver/troubleshooting/errors#no-such-element-exception\nStacktrace:\n\tGetHandleVerifier [0x00007FF685D03AF5+28005]\n\t(No symbol) [0x00007FF685C683F0]\n\t(No symbol) [0x00007FF685B0580A]\n\t(No symbol) [0x00007FF685B55A3E]\n\t(No symbol) [0x00007FF685B55D2C]\n\t(No symbol) [0x00007FF685B9EA97]\n\t(No symbol) [0x00007FF685B7BA7F]\n\t(No symbol) [0x00007FF685B9B8B3]\n\t(No symbol) [0x00007FF685B7B7E3]\n\t(No symbol) [0x00007FF685B475C8]\n\t(No symbol) [0x00007FF685B48731]\n\tGetHandleVerifier [0x00007FF685FF646D+3118813]\n\tGetHandleVerifier [0x00007FF686046CC0+3448624]\n\tGetHandleVerifier [0x00007FF68603CF3D+3408301]\n\tGetHandleVerifier [0x00007FF685DCA44B+841403]\n\t(No symbol) [0x00007FF685C7344F]\n\t(No symbol) [0x00007FF685C6F4C4]\n\t(No symbol) [0x00007FF685C6F65D]\n\t(No symbol) [0x00007FF685C5EBB9]\n\tBaseThreadInitThunk [0x00007FFB0C75257D+29]\n\tRtlUserThreadStart [0x00007FFB0DB8AF08+40]\n",
     "output_type": "error",
     "traceback": [
      "\u001b[1;31m---------------------------------------------------------------------------\u001b[0m",
      "\u001b[1;31mNoSuchElementException\u001b[0m                    Traceback (most recent call last)",
      "Cell \u001b[1;32mIn[25], line 1\u001b[0m\n\u001b[1;32m----> 1\u001b[0m \u001b[43msend_file\u001b[49m\u001b[43m(\u001b[49m\u001b[43m)\u001b[49m\n",
      "Cell \u001b[1;32mIn[24], line 4\u001b[0m, in \u001b[0;36msend_file\u001b[1;34m()\u001b[0m\n\u001b[0;32m      2\u001b[0m \u001b[38;5;28;01mdef\u001b[39;00m \u001b[38;5;21msend_file\u001b[39m():\n\u001b[0;32m      3\u001b[0m     \u001b[38;5;28;01mfor\u001b[39;00m target_id \u001b[38;5;129;01min\u001b[39;00m RECEIVER_IDS:\n\u001b[1;32m----> 4\u001b[0m         p_el \u001b[38;5;241m=\u001b[39m \u001b[43mdriver\u001b[49m\u001b[38;5;241;43m.\u001b[39;49m\u001b[43mfind_element\u001b[49m\u001b[43m(\u001b[49m\u001b[43mBy\u001b[49m\u001b[38;5;241;43m.\u001b[39;49m\u001b[43mID\u001b[49m\u001b[43m,\u001b[49m\u001b[43m \u001b[49m\u001b[38;5;124;43m\"\u001b[39;49m\u001b[38;5;124;43mz-window-modal-cm\u001b[39;49m\u001b[38;5;124;43m\"\u001b[39;49m\u001b[43m)\u001b[49m\n\u001b[0;32m      5\u001b[0m         parent_div \u001b[38;5;241m=\u001b[39m p_el\u001b[38;5;241m.\u001b[39mfind_element(By\u001b[38;5;241m.\u001b[39mID,\u001b[38;5;124m\"\u001b[39m\u001b[38;5;124mzk_comp_981-body\u001b[39m\u001b[38;5;124m\"\u001b[39m)\n\u001b[0;32m      6\u001b[0m         tbody \u001b[38;5;241m=\u001b[39m parent_div\u001b[38;5;241m.\u001b[39mfind_element(By\u001b[38;5;241m.\u001b[39mCLASS_NAME,\u001b[38;5;124m\"\u001b[39m\u001b[38;5;124mz-rows\u001b[39m\u001b[38;5;124m\"\u001b[39m)\n",
      "File \u001b[1;32md:\\test\\.venv\\Lib\\site-packages\\selenium\\webdriver\\remote\\webdriver.py:766\u001b[0m, in \u001b[0;36mWebDriver.find_element\u001b[1;34m(self, by, value)\u001b[0m\n\u001b[0;32m    763\u001b[0m         \u001b[38;5;28;01mraise\u001b[39;00m NoSuchElementException(\u001b[38;5;124mf\u001b[39m\u001b[38;5;124m\"\u001b[39m\u001b[38;5;124mCannot locate relative element with: \u001b[39m\u001b[38;5;132;01m{\u001b[39;00mby\u001b[38;5;241m.\u001b[39mroot\u001b[38;5;132;01m}\u001b[39;00m\u001b[38;5;124m\"\u001b[39m)\n\u001b[0;32m    764\u001b[0m     \u001b[38;5;28;01mreturn\u001b[39;00m elements[\u001b[38;5;241m0\u001b[39m]\n\u001b[1;32m--> 766\u001b[0m \u001b[38;5;28;01mreturn\u001b[39;00m \u001b[38;5;28;43mself\u001b[39;49m\u001b[38;5;241;43m.\u001b[39;49m\u001b[43mexecute\u001b[49m\u001b[43m(\u001b[49m\u001b[43mCommand\u001b[49m\u001b[38;5;241;43m.\u001b[39;49m\u001b[43mFIND_ELEMENT\u001b[49m\u001b[43m,\u001b[49m\u001b[43m \u001b[49m\u001b[43m{\u001b[49m\u001b[38;5;124;43m\"\u001b[39;49m\u001b[38;5;124;43musing\u001b[39;49m\u001b[38;5;124;43m\"\u001b[39;49m\u001b[43m:\u001b[49m\u001b[43m \u001b[49m\u001b[43mby\u001b[49m\u001b[43m,\u001b[49m\u001b[43m \u001b[49m\u001b[38;5;124;43m\"\u001b[39;49m\u001b[38;5;124;43mvalue\u001b[39;49m\u001b[38;5;124;43m\"\u001b[39;49m\u001b[43m:\u001b[49m\u001b[43m \u001b[49m\u001b[43mvalue\u001b[49m\u001b[43m}\u001b[49m\u001b[43m)\u001b[49m[\u001b[38;5;124m\"\u001b[39m\u001b[38;5;124mvalue\u001b[39m\u001b[38;5;124m\"\u001b[39m]\n",
      "File \u001b[1;32md:\\test\\.venv\\Lib\\site-packages\\selenium\\webdriver\\remote\\webdriver.py:380\u001b[0m, in \u001b[0;36mWebDriver.execute\u001b[1;34m(self, driver_command, params)\u001b[0m\n\u001b[0;32m    378\u001b[0m response \u001b[38;5;241m=\u001b[39m \u001b[38;5;28mself\u001b[39m\u001b[38;5;241m.\u001b[39mcommand_executor\u001b[38;5;241m.\u001b[39mexecute(driver_command, params)\n\u001b[0;32m    379\u001b[0m \u001b[38;5;28;01mif\u001b[39;00m response:\n\u001b[1;32m--> 380\u001b[0m     \u001b[38;5;28;43mself\u001b[39;49m\u001b[38;5;241;43m.\u001b[39;49m\u001b[43merror_handler\u001b[49m\u001b[38;5;241;43m.\u001b[39;49m\u001b[43mcheck_response\u001b[49m\u001b[43m(\u001b[49m\u001b[43mresponse\u001b[49m\u001b[43m)\u001b[49m\n\u001b[0;32m    381\u001b[0m     response[\u001b[38;5;124m\"\u001b[39m\u001b[38;5;124mvalue\u001b[39m\u001b[38;5;124m\"\u001b[39m] \u001b[38;5;241m=\u001b[39m \u001b[38;5;28mself\u001b[39m\u001b[38;5;241m.\u001b[39m_unwrap_value(response\u001b[38;5;241m.\u001b[39mget(\u001b[38;5;124m\"\u001b[39m\u001b[38;5;124mvalue\u001b[39m\u001b[38;5;124m\"\u001b[39m, \u001b[38;5;28;01mNone\u001b[39;00m))\n\u001b[0;32m    382\u001b[0m     \u001b[38;5;28;01mreturn\u001b[39;00m response\n",
      "File \u001b[1;32md:\\test\\.venv\\Lib\\site-packages\\selenium\\webdriver\\remote\\errorhandler.py:229\u001b[0m, in \u001b[0;36mErrorHandler.check_response\u001b[1;34m(self, response)\u001b[0m\n\u001b[0;32m    227\u001b[0m         alert_text \u001b[38;5;241m=\u001b[39m value[\u001b[38;5;124m\"\u001b[39m\u001b[38;5;124malert\u001b[39m\u001b[38;5;124m\"\u001b[39m]\u001b[38;5;241m.\u001b[39mget(\u001b[38;5;124m\"\u001b[39m\u001b[38;5;124mtext\u001b[39m\u001b[38;5;124m\"\u001b[39m)\n\u001b[0;32m    228\u001b[0m     \u001b[38;5;28;01mraise\u001b[39;00m exception_class(message, screen, stacktrace, alert_text)  \u001b[38;5;66;03m# type: ignore[call-arg]  # mypy is not smart enough here\u001b[39;00m\n\u001b[1;32m--> 229\u001b[0m \u001b[38;5;28;01mraise\u001b[39;00m exception_class(message, screen, stacktrace)\n",
      "\u001b[1;31mNoSuchElementException\u001b[0m: Message: no such element: Unable to locate element: {\"method\":\"css selector\",\"selector\":\"[id=\"z-window-modal-cm\"]\"}\n  (Session info: chrome=130.0.6723.92); For documentation on this error, please visit: https://www.selenium.dev/documentation/webdriver/troubleshooting/errors#no-such-element-exception\nStacktrace:\n\tGetHandleVerifier [0x00007FF685D03AF5+28005]\n\t(No symbol) [0x00007FF685C683F0]\n\t(No symbol) [0x00007FF685B0580A]\n\t(No symbol) [0x00007FF685B55A3E]\n\t(No symbol) [0x00007FF685B55D2C]\n\t(No symbol) [0x00007FF685B9EA97]\n\t(No symbol) [0x00007FF685B7BA7F]\n\t(No symbol) [0x00007FF685B9B8B3]\n\t(No symbol) [0x00007FF685B7B7E3]\n\t(No symbol) [0x00007FF685B475C8]\n\t(No symbol) [0x00007FF685B48731]\n\tGetHandleVerifier [0x00007FF685FF646D+3118813]\n\tGetHandleVerifier [0x00007FF686046CC0+3448624]\n\tGetHandleVerifier [0x00007FF68603CF3D+3408301]\n\tGetHandleVerifier [0x00007FF685DCA44B+841403]\n\t(No symbol) [0x00007FF685C7344F]\n\t(No symbol) [0x00007FF685C6F4C4]\n\t(No symbol) [0x00007FF685C6F65D]\n\t(No symbol) [0x00007FF685C5EBB9]\n\tBaseThreadInitThunk [0x00007FFB0C75257D+29]\n\tRtlUserThreadStart [0x00007FFB0DB8AF08+40]\n"
     ]
    }
   ],
   "source": [
    "send_file()"
   ]
  },
  {
   "cell_type": "code",
   "execution_count": null,
   "metadata": {},
   "outputs": [],
   "source": [
    "driver.find_element(By.ID,\"zk_comp_1016\").click()"
   ]
  },
  {
   "cell_type": "code",
   "execution_count": null,
   "metadata": {},
   "outputs": [],
   "source": [
    "\n",
    "driver.find_element(By.ID,\"zk_comp_1272-real\").click()\n",
    "driver.find_element(By.ID,\"zk_comp_1278\").click()\n"
   ]
  }
 ],
 "metadata": {
  "kernelspec": {
   "display_name": ".venv",
   "language": "python",
   "name": "python3"
  },
  "language_info": {
   "codemirror_mode": {
    "name": "ipython",
    "version": 3
   },
   "file_extension": ".py",
   "mimetype": "text/x-python",
   "name": "python",
   "nbconvert_exporter": "python",
   "pygments_lexer": "ipython3",
   "version": "3.11.10"
  }
 },
 "nbformat": 4,
 "nbformat_minor": 2
}
